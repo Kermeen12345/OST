{
  "nbformat": 4,
  "nbformat_minor": 0,
  "metadata": {
    "colab": {
      "provenance": [],
      "authorship_tag": "ABX9TyMoWYX8wwTohlbwRneXvkHu",
      "include_colab_link": true
    },
    "kernelspec": {
      "name": "python3",
      "display_name": "Python 3"
    },
    "language_info": {
      "name": "python"
    }
  },
  "cells": [
    {
      "cell_type": "markdown",
      "metadata": {
        "id": "view-in-github",
        "colab_type": "text"
      },
      "source": [
        "<a href=\"https://colab.research.google.com/github/Kermeen12345/OST/blob/Prac-O%2FP/PYQB.ipynb\" target=\"_parent\"><img src=\"https://colab.research.google.com/assets/colab-badge.svg\" alt=\"Open In Colab\"/></a>"
      ]
    },
    {
      "cell_type": "markdown",
      "source": [
        "**SOLUTION FOR PYTHON PRACTICAL QUESTION BANK**"
      ],
      "metadata": {
        "id": "7jAftjss6yHq"
      }
    },
    {
      "cell_type": "markdown",
      "source": [
        "**SET 1 A.**   Write a program to input a three digit number. Use a method int Armstrong(int n) to accept the  number. The method returns 1, if the number is Armstrong, otherwise zero(0). Sample Input: 153\n",
        "Sample Output: 153 ⇒ 13 + 53 + 33 = 153\n",
        "It is an Armstrong Number.\n"
      ],
      "metadata": {
        "id": "q5XX4UlT6_bR"
      }
    },
    {
      "cell_type": "code",
      "execution_count": null,
      "metadata": {
        "id": "Xd9XGfKb6vZF"
      },
      "outputs": [],
      "source": [
        "                                                                                # Define a function to check if a number is Armstrong\n",
        "def Armstrong(n):\n",
        "                                                                                # Convert the number to a string\n",
        "  string = str(n)\n",
        "                                                                                # Get the number of digits\n",
        "  d = len(string)\n",
        "                                                                                # Initialize the sum\n",
        "  sum = 0\n",
        "                                                                                # Loop through each digit\n",
        "  for i in string:\n",
        "                                                                                # Convert the digit to an integer\n",
        "    i = int(i)\n",
        "                                                                                # Add the digit raised to the power of d to the sum\n",
        "    sum += i**d\n",
        "                                                                                # Check if the sum is equal to the number\n",
        "  if sum == n:\n",
        "                                                                                # Return 1 if true\n",
        "    return 1\n",
        "  else:\n",
        "                                                                                # Return 0 if false\n",
        "    return 0\n",
        "\n",
        "                                                                                # Input a three digit number\n",
        "n = int(input(\"Enter a three digit number: \"))\n",
        "                                                                                # Check if the input is valid\n",
        "if n >= 100 and n <= 999:\n",
        "                                                                                # Call the function and store the result\n",
        "  result = Armstrong(n)\n",
        "                                                                                # Print the result\n",
        "  if result == 1:\n",
        "    print(n, \"is an Armstrong number.\")\n",
        "  else:\n",
        "    print(n, \"is not an Armstrong number.\")\n",
        "else:\n",
        "                                                                                # Print an error message\n",
        "  print(\"Invalid input. Please enter a three digit number.\")"
      ]
    },
    {
      "cell_type": "markdown",
      "source": [
        "**SET 1  B.**     Write a python program to demonstrate use of all arithmetic operators"
      ],
      "metadata": {
        "id": "rNH2l-Xm7fwz"
      }
    },
    {
      "cell_type": "code",
      "source": [
        "                                                                                # Define a function Operators\n",
        "def Operators():\n",
        "                                                                                # Getting the first user input and storing the value in variable 'num1'\n",
        "  num1=int(input(\"Enter first number :\"))\n",
        "                                                                                # Getting the second user input and storing the value in variable 'num2'\n",
        "  num2=int(input(\"Enter second number :\"))\n",
        "                                                                                # Demonstrating addition operator\n",
        "  add = num1+num2\n",
        "                                                                                # Demonstrating subtraction operator\n",
        "  sub = num1-num2\n",
        "                                                                                # Demonstrating multiplication operator\n",
        "  multi = num1*num2\n",
        "                                                                                # Demonstrating division operator\n",
        "  div = num1/num2\n",
        "                                                                                # Demonstrating modulus operator\n",
        "  mod = num1%num2\n",
        "                                                                                # Demonstrating exponentiation operator\n",
        "  expo = num1**num2\n",
        "                                                                                # Demonstrating floor division operator\n",
        "  floor_div = num1//num2\n",
        "\n",
        "                                                                                # Printing the result\n",
        "  print()\n",
        "  print(\"-\"*10,\"The Demonstrated Results of Airthmetic Operators are\",\"-\"*10)\n",
        "  print(\"The addition of \",num1,\" and \",num2,\" is \",add)\n",
        "  print(\"The subtraction of \",num1,\" and \",num2,\" is \",sub)\n",
        "  print(\"The multiplication of \",num1,\" and \",num2,\" is \",multi)\n",
        "  print(\"The division of \",num1,\" and \",num2,\" is \",div)\n",
        "  print(\"The modulus of \",num1,\" and \",num2,\" is \",mod)\n",
        "  print(\"The exponentiation of \",num1,\" and \",num2,\" is \",expo)\n",
        "  print(\"The floor division of \",num1,\" and \",num2,\" is \",floor_div)\n",
        "\n",
        "Operators()"
      ],
      "metadata": {
        "id": "IiByWnfM7myr"
      },
      "execution_count": null,
      "outputs": []
    },
    {
      "cell_type": "markdown",
      "source": [
        "**SET 2  A.**   Define a module named BookFair with the following description :\n",
        "Module Name BookFair\n",
        "Instance variables /Data members :\n",
        "String Bname – stores the name of the book\n",
        "double price – stores the price of the book\n",
        "Member methods :\n",
        "void Input() To input and store the name and the price of the book. void display() To display the name and price of the book after discount.\n",
        "void calculate() To calculate the price after discount. Discount is  calculated based on the following criteria\n",
        "Price Discount\n",
        "Less than or equal to Rs.1000 2% of price\n",
        "More than Rs. 1000 and less than or equal to Rs. 3000 10% of price\n",
        "More than Rs. 3000 15% of price"
      ],
      "metadata": {
        "id": "7BuniFD_CYzK"
      }
    },
    {
      "cell_type": "code",
      "source": [],
      "metadata": {
        "id": "W1Kvz7m6Cl9y"
      },
      "execution_count": null,
      "outputs": []
    },
    {
      "cell_type": "markdown",
      "source": [
        "**SET 2  B.**   Write a python program to demonstrate use of all assignment operators."
      ],
      "metadata": {
        "id": "K5J5PWxFCp33"
      }
    },
    {
      "cell_type": "code",
      "source": [],
      "metadata": {
        "id": "I8WssUNNCy9B"
      },
      "execution_count": null,
      "outputs": []
    },
    {
      "cell_type": "markdown",
      "source": [
        "**SET 3 A.**   Write a program in Python to enter a sentence. Frame a word by joining all the first characters of  each word of the sentence. Display the word.\n",
        "Sample Input: Vital Information Resource Under Seize\n",
        "Sample Output: VIRUS"
      ],
      "metadata": {
        "id": "yrgDQlk60r6N"
      }
    },
    {
      "cell_type": "code",
      "source": [
        "                                                                                # Input a sentence from the user\n",
        "sentence = input(\"Enter a sentence: \")\n",
        "\n",
        "                                                                                # Split the sentence into words\n",
        "words = sentence.split()\n",
        "\n",
        "                                                                                # Initialize an empty string to store the word\n",
        "word = \"\"\n",
        "\n",
        "                                                                                # Iterate through the words and concatenate the first character of each word\n",
        "for w in words:\n",
        "    if w:                                                                       # Check if the word is not empty\n",
        "        word += w[0]\n",
        "\n",
        "                                                                                # Display the resulting word\n",
        "print(\"The word formed by joining the first characters of each word is:\", word)"
      ],
      "metadata": {
        "id": "IArileFX1OaN"
      },
      "execution_count": null,
      "outputs": []
    },
    {
      "cell_type": "markdown",
      "source": [
        "**SET 3 B.**   Write a python program to demonstrate use of all comparison and logical operators"
      ],
      "metadata": {
        "id": "bxogTJAk1PG0"
      }
    },
    {
      "cell_type": "code",
      "source": [
        "                                                                                # Define function 'Compare_Operators'\n",
        "def Compare_Operators():\n",
        "                                                                                # Getting the first user input\n",
        "  num1=int(input(\"Enter first number :\"))\n",
        "                                                                                # Getting the second user input\n",
        "  num2=int(input(\"Enter second number :\"))\n",
        "                                                                                # Demonstrating equal operator\n",
        "  eq = (num1 == num2)\n",
        "                                                                                # Demonstrating not equal operator\n",
        "  not_eq = (num1 != num2)\n",
        "                                                                                # Demonstrating greater operator\n",
        "  gtr = (num1 > num2)\n",
        "                                                                                # Demonstrating lesser operator\n",
        "  lsr = (num1 < num2)\n",
        "                                                                                # Demonstrating greater than or equal operator\n",
        "  gtr_eq = (num1 >= num2)\n",
        "                                                                                # Demonstrating lesser than or equal operator\n",
        "  lsr_eq = (num1 <= num2)\n",
        "\n",
        "                                                                                # Printing the result\n",
        "  print()\n",
        "  print(\"-\"*10,\"The Demonstrated Results of Comparison Operators are\",\"-\"*10)\n",
        "  print(\"The equal operator between \",num1,\" and \",num2,\" is \",eq)\n",
        "  print(\"The not equal operator between \",num1,\" and \",num2,\" is \",not_eq)\n",
        "  print(\"The greater operator between \",num1,\" and \",num2,\" is \",gtr)\n",
        "  print(\"The lesser operator between \",num1,\" and \",num2,\" is \",lsr)\n",
        "  print(\"The greater than equal operator \",num1,\" and \",num2,\" is \",gtr_eq)\n",
        "  print(\"The lesser than equal operator \",num1,\" and \",num2,\" is \",lsr_eq)\n",
        "\n",
        "Compare_Operators()\n",
        "\n",
        "                                                                                # Define a function 'Logic_Operators'\n",
        "def Logic_Operators():\n",
        "                                                                                # Getting first user input\n",
        "  num3=int(input(\"Enter your first digit :\"))\n",
        "                                                                                # Getting second user input\n",
        "  num4=int(input(\"Enter your second digit :\"))\n",
        "                                                                                # Demonstrating 'and' operator\n",
        "  a=num3<0 and num3>num4\n",
        "                                                                                # Demonstrating 'or' operator\n",
        "  b=num3<0 or num3>num4\n",
        "                                                                                # Demonstrating 'not' operator\n",
        "  c=not(num3<0 or num3>num4)\n",
        "                                                                                # Printing results\n",
        "  print()\n",
        "  print(\"-\"*10,\"The Demonstrated Results of Logical Operators are\",\"-\"*10)\n",
        "  print(\"The result for \",num3,\" <0 and \",num3,\" > \",num4,\" is \",a)\n",
        "  print(\"The result for \",num3,\" <0 or \",num3,\" > \",num4,\" is \",b)\n",
        "  print(\"The result for \",num3,\" not <0 and \",num3,\"not > \",num4,\" is \",c)\n",
        "\n",
        "Logic_Operators()"
      ],
      "metadata": {
        "id": "hNuoZrV_1znM"
      },
      "execution_count": null,
      "outputs": []
    },
    {
      "cell_type": "markdown",
      "source": [
        "**SET 4 A.**  Write a program in Python to enter a sentence. Display the words which are only palindrome. Sample Input: MOM AND DAD ARE NOT AT HOME\n",
        "Sample Output: MOM\n",
        " DAD"
      ],
      "metadata": {
        "id": "DtS9sM-985fy"
      }
    },
    {
      "cell_type": "code",
      "source": [
        "                                                                                # Function to check if a word is a palindrome\n",
        "def is_palindrome(word):\n",
        "    return word == word[::-1]\n",
        "\n",
        "                                                                                # Input a sentence from the user\n",
        "sentence = input(\"Enter a sentence: \")\n",
        "\n",
        "                                                                                # Split the sentence into words\n",
        "words = sentence.split()\n",
        "\n",
        "                                                                                # Initialize an empty list to store palindrome words\n",
        "palindrome_words = []\n",
        "\n",
        "                                                                                # Iterate through the words and check if each word is a palindrome\n",
        "for word in words:\n",
        "    if is_palindrome(word):\n",
        "        palindrome_words.append(word)\n",
        "\n",
        "                                                                                # Display the palindrome words\n",
        "if palindrome_words:\n",
        "    print(\"Palindromes in the sentence:\", ', '.join(palindrome_words))\n",
        "else:\n",
        "    print(\"No palindromes found in the sentence.\")"
      ],
      "metadata": {
        "id": "5TO_1jNg9DUG"
      },
      "execution_count": null,
      "outputs": []
    },
    {
      "cell_type": "markdown",
      "source": [
        "**SET 4 B.**  Write a python program to demonstrate use of all membership operators, Identity operators and all  the datatypes ."
      ],
      "metadata": {
        "id": "k2c-CxK69hwt"
      }
    },
    {
      "cell_type": "code",
      "source": [
        "                                                                                # Membership operators: in and not\n",
        "                                                                                # Example: in operator\n",
        "x = 'Hello world'\n",
        "y = 'world'\n",
        "z = 'python'\n",
        "\n",
        "print(y in x)                                                                   # True\n",
        "print(z in x)                                                                   # False\n",
        "\n",
        "                                                                                # Example: not in operator\n",
        "fruits = ['apple', 'banana', 'orange']\n",
        "print('mango' not in fruits) # True\n",
        "print('apple' not in fruits) # False\n",
        "\n",
        "                                                                                # Identity operators: is and is not\n",
        "                                                                                # Example: is operator\n",
        "a = 10\n",
        "b = 10\n",
        "c = 20\n",
        "\n",
        "print(a is b)                                                                   # True\n",
        "print(a is c)                                                                   # False\n",
        "\n",
        "                                                                                # Example: is not operator\n",
        "d = [1, 2, 3]\n",
        "e = [1, 2, 3]\n",
        "f = d\n",
        "\n",
        "print(d is e)                                                                   # False\n",
        "print(d is f)                                                                   # True\n",
        "print(d is not e)                                                               # True\n",
        "print(d is not f)                                                               # False\n",
        "\n",
        "                                                                                # Datatypes in Python: int, float, complex, bool, str, list, tuple, set, dict\n",
        "\n",
        "                                                                                # Example: int datatype\n",
        "g = 42                                                                          # g is an integer\n",
        "print(type(g))                                                                  # <class 'int'>\n",
        "\n",
        "                                                                                # Example: float datatype\n",
        "h = 3.14                                                                        # h is a floating point number\n",
        "print(type(h))                                                                  # <class 'float'>\n",
        "\n",
        "                                                                                # Example: complex datatype\n",
        "i = 2 + 3j                                                                      # i is a complex number\n",
        "print(type(i))                                                                  # <class 'complex'>\n",
        "\n",
        "                                                                                # Example: bool datatype\n",
        "j = True                                                                        # j is a boolean value\n",
        "print(type(j))                                                                  # <class 'bool'>\n",
        "\n",
        "                                                                                # Example: str datatype\n",
        "k = 'Hello'                                                                     # k is a string\n",
        "print(type(k))                                                                  # <class 'str'>\n",
        "\n",
        "                                                                                # Example: list datatype\n",
        "l = [1, 2, 3]                                                                   # l is a list\n",
        "print(type(l))                                                                  # <class 'list'>\n",
        "\n",
        "                                                                                # Example: tuple datatype\n",
        "m = (1, 2, 3)                                                                   # m is a tuple\n",
        "print(type(m))                                                                  # <class 'tuple'>\n",
        "\n",
        "                                                                                # Example: set datatype\n",
        "n = {1, 2, 3}                                                                   # n is a set\n",
        "print(type(n))                                                                  # <class 'set'>\n",
        "\n",
        "                                                                                # Example: dict datatype\n",
        "o = {'name': 'Alice', 'age': 25}                                                # o is a dictionary\n",
        "print(type(o))                                                                  # <class 'dict'>"
      ],
      "metadata": {
        "id": "9OFZrmq99t7n"
      },
      "execution_count": null,
      "outputs": []
    },
    {
      "cell_type": "markdown",
      "source": [
        "**SET 5 A.**   Define a python program Employee having the following description :\n",
        "Data members]:\n",
        "pan : to store the personal account number\n",
        "name : to store the name\n",
        "tax : to store the annual taxable income\n",
        "incometax : to store the tax that is calculated\n",
        "Member Funtions :\n",
        "void input() : to accept pan number , name and tax\n",
        "void calc() : to calculate the tax for an employee according to the given conditions :\n",
        "Total Annual Taxable income\n",
        "upto 100000 : No tax\n",
        "From Rs. 100001 to Rs.150000 : 10% of income tax\n",
        "From Rs.150001 to Rs.250000 : Rs.5000+20% of tax\n",
        "Above 250000 : Rs.25000+30% of tax\n",
        "void display() : to output the name, pan number , Taxable Income and income tax"
      ],
      "metadata": {
        "id": "0ct_GlzW_0Jd"
      }
    },
    {
      "cell_type": "code",
      "source": [
        "class Employee:\n",
        "                                                                                # Constructor to initialize data members\n",
        "    def __init__(self):\n",
        "        self.pan = \"\"\n",
        "        self.name = \"\"\n",
        "        self.tax = 0\n",
        "        self.incometax = 0\n",
        "\n",
        "                                                                                # Function to input PAN number, name, and tax\n",
        "    def input(self):\n",
        "        self.pan = input(\"Enter PAN Number: \")\n",
        "        self.name = input(\"Enter Name: \")\n",
        "        self.tax = float(input(\"Enter Annual Taxable Income: \"))\n",
        "\n",
        "                                                                                # Function to calculate the income tax\n",
        "    def calc(self):\n",
        "        if self.tax <= 100000:\n",
        "            self.incometax = 0\n",
        "        elif 100001 <= self.tax <= 150000:\n",
        "            self.incometax = 0.10 * self.tax\n",
        "        elif 150001 <= self.tax <= 250000:\n",
        "            self.incometax = 5000 + 0.20 * (self.tax - 150000)\n",
        "        else:\n",
        "            self.incometax = 25000 + 0.30 * (self.tax - 250000)\n",
        "\n",
        "                                                                                # Function to display employee information\n",
        "    def display(self):\n",
        "        print(\"Name:\", self.name)\n",
        "        print(\"PAN Number:\", self.pan)\n",
        "        print(\"Taxable Income:\", self.tax)\n",
        "        print(\"Income Tax:\", self.incometax)\n",
        "\n",
        "                                                                                # Create an Employee object\n",
        "employee = Employee()\n",
        "\n",
        "                                                                                # Input data\n",
        "employee.input()\n",
        "\n",
        "                                                                                # Calculate income tax\n",
        "employee.calc()\n",
        "\n",
        "                                                                                # Display employee information\n",
        "employee.display()"
      ],
      "metadata": {
        "id": "m-ndKIMdAK1b"
      },
      "execution_count": null,
      "outputs": []
    },
    {
      "cell_type": "markdown",
      "source": [
        "**SET 5 B.** Write a python program to demonstrate use of range function(using for over list, using loop over  string)"
      ],
      "metadata": {
        "id": "quielhPiAMoz"
      }
    },
    {
      "cell_type": "code",
      "source": [
        "                                                                                # Using range with a for loop over a list\n",
        "numbers = [1, 2, 3, 4, 5]\n",
        "for i in range(len(numbers)):\n",
        "    print(numbers[i])\n",
        "\n",
        "                                                                                # Using range with a for loop to iterate over a string\n",
        "text = \"Hello, World!\"\n",
        "for index in range(len(text)):\n",
        "    print(text[index])"
      ],
      "metadata": {
        "id": "UEmW5uBaAU0C"
      },
      "execution_count": null,
      "outputs": []
    },
    {
      "cell_type": "markdown",
      "source": [
        "**SET 6 A.** Write a python program as described as below: -\n",
        "Data Members: name, address, phone, subject specialization, monthly salary, income tax. Member methods:  \n",
        "(i) To accept the details of a teacher including the monthly salary.\n",
        "(ii) To display the details of the teacher.\n",
        "(iii) To compute the annual Income Tax as 5% of the annual salary above Rs.1,75,000/-. Write a main method to create object of a class and call the above member method."
      ],
      "metadata": {
        "id": "vxb0viw5AVIp"
      }
    },
    {
      "cell_type": "code",
      "source": [
        "class Teacher:\n",
        "                                                                                # Constructor to initialize data members\n",
        "    def __init__(self):\n",
        "        self.name = \"\"\n",
        "        self.address = \"\"\n",
        "        self.phone = \"\"\n",
        "        self.subject_specialization = \"\"\n",
        "        self.monthly_salary = 0\n",
        "        self.income_tax = 0\n",
        "\n",
        "                                                                                # Method to accept the details of a teacher, including the monthly salary\n",
        "    def input_details(self):\n",
        "        self.name = input(\"Enter Teacher's Name: \")\n",
        "        self.address = input(\"Enter Address: \")\n",
        "        self.phone = input(\"Enter Phone Number: \")\n",
        "        self.subject_specialization = input(\"Enter Subject Specialization: \")\n",
        "        self.monthly_salary = float(input(\"Enter Monthly Salary: \"))\n",
        "\n",
        "                                                                                # Method to compute the annual income tax\n",
        "    def compute_income_tax(self):\n",
        "        annual_salary = 12 * self.monthly_salary\n",
        "        if annual_salary > 175000:\n",
        "            self.income_tax = 0.05 * (annual_salary - 175000)\n",
        "\n",
        "                                                                                # Method to display the details of the teacher\n",
        "    def display_details(self):\n",
        "        print(\"Teacher's Name:\", self.name)\n",
        "        print(\"Address:\", self.address)\n",
        "        print(\"Phone Number:\", self.phone)\n",
        "        print(\"Subject Specialization:\", self.subject_specialization)\n",
        "        print(\"Monthly Salary:\", self.monthly_salary)\n",
        "        print(\"Income Tax:\", self.income_tax)\n",
        "\n",
        "                                                                                # Main method\n",
        "def main():\n",
        "    teacher = Teacher()\n",
        "    teacher.input_details()\n",
        "    teacher.compute_income_tax()\n",
        "    teacher.display_details()\n",
        "\n",
        "if __name__ == \"__main__\":\n",
        "    main()\n"
      ],
      "metadata": {
        "id": "ISUzo9w9AemS"
      },
      "execution_count": null,
      "outputs": []
    },
    {
      "cell_type": "markdown",
      "source": [
        "**SET 6 B.**  i) Write a Python program to calculate the factorial of a given number using a `while` loop. ii) Write a Python program to find the sum of all even numbers from 1 to 100 using a `for` loop."
      ],
      "metadata": {
        "id": "Rs7Z4VE7Afhh"
      }
    },
    {
      "cell_type": "code",
      "source": [
        "1\n",
        "                                                                                # Input a number\n",
        "num = int(input(\"Enter a number: \"))\n",
        "\n",
        "                                                                                # Initialize the result and a counter\n",
        "factorial = 1\n",
        "i = 1\n",
        "\n",
        "                                                                                # Calculate the factorial using a while loop\n",
        "while i <= num:\n",
        "    factorial *= i\n",
        "    i += 1\n",
        "\n",
        "                                                                                # Display the factorial\n",
        "print(f\"The factorial of {num} is {factorial}\")\n",
        "\n",
        "2\n",
        "                                                                                # Initialize a variable to store the sum\n",
        "even_sum = 0\n",
        "\n",
        "                                                                                # Use a for loop to iterate through even numbers from 1 to 100\n",
        "for num in range(2, 101, 2):\n",
        "    even_sum += num\n",
        "\n",
        "                                                                                # Display the sum of even numbers\n",
        "print(f\"The sum of even numbers from 1 to 100 is {even_sum}\")\n"
      ],
      "metadata": {
        "id": "L-8vJFHTAlIj"
      },
      "execution_count": null,
      "outputs": []
    },
    {
      "cell_type": "markdown",
      "source": [
        "**SET 7 A.**  Write a program to input name and percentage of 35 students of class X in two separate one  dimensional arrays. Arrange students details according to their percentage in the descending order  using bubble sort method. Display name and percentage of first ten toppers of the class"
      ],
      "metadata": {
        "id": "AUb4R5WgAlpy"
      }
    },
    {
      "cell_type": "code",
      "source": [
        "                                                                                # Function to perform bubble sort and arrange students in descending order of percentage\n",
        "def bubble_sort_descending(names, percentages):\n",
        "    n = len(percentages)\n",
        "    for i in range(n):\n",
        "        for j in range(0, n - i - 1):\n",
        "            if percentages[j] < percentages[j + 1]:\n",
        "                                                                                # Swap percentages\n",
        "                percentages[j], percentages[j + 1] = percentages[j + 1], percentages[j]\n",
        "                                                                                # Swap names accordingly\n",
        "                names[j], names[j + 1] = names[j + 1], names[j]\n",
        "\n",
        "                                                                                # Initialize empty lists for names and percentages\n",
        "names = []\n",
        "percentages = []\n",
        "\n",
        "                                                                                # Input details for 35 students\n",
        "for i in range(35):\n",
        "    name = input(f\"Enter name of student {i + 1}: \")\n",
        "    percentage = float(input(f\"Enter percentage of {name}: \"))\n",
        "    names.append(name)\n",
        "    percentages.append(percentage)\n",
        "\n",
        "                                                                                # Perform bubble sort to arrange students in descending order\n",
        "bubble_sort_descending(names, percentages)\n",
        "\n",
        "                                                                                # Display details of the top ten students\n",
        "print(\"\\nTop Ten Students:\")\n",
        "for i in range(10):\n",
        "    print(f\"{i + 1}. Name: {names[i]}, Percentage: {percentages[i]}%\")"
      ],
      "metadata": {
        "id": "LI7jKR9cAuQa"
      },
      "execution_count": null,
      "outputs": []
    },
    {
      "cell_type": "markdown",
      "source": [
        "**SET 7 B.** Write a program to create a system login where login id and password is entered by user. User is  given three attempts to login"
      ],
      "metadata": {
        "id": "nmMwAjb5AuyK"
      }
    },
    {
      "cell_type": "code",
      "source": [
        "                                                                                # Define the correct login credentials\n",
        "correct_login_id = \"myuser\"\n",
        "correct_password = \"mypassword\"\n",
        "\n",
        "                                                                                # Initialize the number of login attempts allowed\n",
        "max_attempts = 3\n",
        "attempts = 0\n",
        "\n",
        "                                                                                # Implement the login system\n",
        "while attempts < max_attempts:\n",
        "    login_id = input(\"Enter Login ID: \")\n",
        "    password = input(\"Enter Password: \")\n",
        "\n",
        "    if login_id == correct_login_id and password == correct_password:\n",
        "        print(\"Login successful!\")\n",
        "        break\n",
        "    else:\n",
        "        attempts += 1\n",
        "        remaining_attempts = max_attempts - attempts\n",
        "        if remaining_attempts > 0:\n",
        "            print(f\"Login failed. {remaining_attempts} attempts remaining.\")\n",
        "        else:\n",
        "            print(\"Login failed. No more attempts allowed.\")\n",
        "            break"
      ],
      "metadata": {
        "id": "wQ9VBncFA0b5"
      },
      "execution_count": null,
      "outputs": []
    },
    {
      "cell_type": "markdown",
      "source": [
        "**SET 8 A.** Write a program to encrypt and decrypt the string given by user. To encrypt the input string convert  the string to lower case and add 10 to each character’s ASCII value. To decrypt the string subtract 10  from each character’s ASCII value of encrypted text. Display both the encrypted and decrypted text. Example:  \n",
        "Input : Lucifer is here\n",
        "Encrypted Output : v mspo|*s}*ro|o  \n",
        "Decrypted output = Lucifer is here"
      ],
      "metadata": {
        "id": "9Uu_ItZGA0sa"
      }
    },
    {
      "cell_type": "code",
      "source": [
        "                                                                                # Function to encrypt a string\n",
        "def encrypt(text):\n",
        "    encrypted_text = \"\"\n",
        "    for char in text:\n",
        "        if char.isalpha():                                                      # Check if it's an alphabetic character\n",
        "            char = chr(((ord(char.lower()) - 97 + 10) % 26) + 97)\n",
        "        encrypted_text += char\n",
        "    return encrypted_text\n",
        "\n",
        "                                                                                # Function to decrypt a string\n",
        "def decrypt(text):\n",
        "    decrypted_text = \"\"\n",
        "    for char in text:\n",
        "        if char.isalpha():\n",
        "            char = chr(((ord(char.lower()) - 97 - 10) % 26) + 97)\n",
        "        decrypted_text += char\n",
        "    return decrypted_text\n",
        "\n",
        "                                                                                # Input a string from the user\n",
        "input_text = input(\"Enter a string: \")\n",
        "\n",
        "                                                                                # Encrypt the input string\n",
        "encrypted_text = encrypt(input_text)\n",
        "print(\"Encrypted Text:\", encrypted_text)\n",
        "\n",
        "                                                                                # Decrypt the encrypted string\n",
        "decrypted_text = decrypt(encrypted_text)\n",
        "print(\"Decrypted Text:\", decrypted_text)\n"
      ],
      "metadata": {
        "id": "UWMpQMcsA71z"
      },
      "execution_count": null,
      "outputs": []
    },
    {
      "cell_type": "markdown",
      "source": [
        "**SET 8 B.** Write a program to find prime numbers upto the limit entered by the user."
      ],
      "metadata": {
        "id": "MrTyiVdgA8CK"
      }
    },
    {
      "cell_type": "code",
      "source": [
        "                                                                                # Function to check if a number is prime\n",
        "def is_prime(num):\n",
        "    if num <= 1:\n",
        "        return False\n",
        "    if num <= 3:\n",
        "        return True\n",
        "    if num % 2 == 0 or num % 3 == 0:\n",
        "        return False\n",
        "    i = 5\n",
        "    while i * i <= num:\n",
        "        if num % i == 0 or num % (i + 2) == 0:\n",
        "            return False\n",
        "        i += 6\n",
        "    return True\n",
        "\n",
        "                                                                                # Input the limit from the user\n",
        "limit = int(input(\"Enter the limit to find prime numbers up to: \"))\n",
        "\n",
        "                                                                                # Find and display prime numbers up to the limit\n",
        "print(f\"Prime numbers up to {limit}:\")\n",
        "for number in range(2, limit + 1):\n",
        "    if is_prime(number):\n",
        "        print(number)"
      ],
      "metadata": {
        "id": "pDXfc8rFBB8J"
      },
      "execution_count": null,
      "outputs": []
    },
    {
      "cell_type": "markdown",
      "source": [
        "**SET 9 A.** Write a program in Java to initialize and array of 10 distinct names and initialize another array with  their respective telephone numbers. Search for a name given as input by the user , in the array. If  found , display “Search Successful” along with the phone number else print “Search Unsuccessful,  Name not enlisted”"
      ],
      "metadata": {
        "id": "iaK44J3uBCFp"
      }
    },
    {
      "cell_type": "code",
      "source": [
        "                                                                                # Initialize arrays with names and telephone numbers\n",
        "names = [\"Alice\", \"Bob\", \"Charlie\", \"David\", \"Eve\", \"Frank\", \"Grace\", \"Helen\", \"Ivy\", \"Jack\"]\n",
        "telephone_numbers = [\"123-456-7890\", \"234-567-8901\", \"345-678-9012\", \"456-789-0123\", \"567-890-1234\",\n",
        "                    \"678-901-2345\", \"789-012-3456\", \"890-123-4567\", \"901-234-5678\", \"012-345-6789\"]\n",
        "\n",
        "                                                                                # Input a name to search for\n",
        "search_name = input(\"Enter a name to search for: \")\n",
        "\n",
        "                                                                                # Initialize a flag to track if the name is found\n",
        "found = False\n",
        "\n",
        "                                                                                # Search for the name in the array\n",
        "for i in range(len(names)):\n",
        "    if names[i] == search_name:\n",
        "        print(\"Search Successful\")\n",
        "        print(\"Telephone Number:\", telephone_numbers[i])\n",
        "        found = True\n",
        "        break\n",
        "\n",
        "if not found:\n",
        "    print(\"Search Unsuccessful, Name not enlisted\")"
      ],
      "metadata": {
        "id": "2uFX-jEfBHmZ"
      },
      "execution_count": null,
      "outputs": []
    },
    {
      "cell_type": "markdown",
      "source": [
        "**SET 9 B.** i) Write a program to print Fibonacci series upto the limit given by the user.(Use Math Function) ii) Write a python program to keep on taking text as input from user until user types stop"
      ],
      "metadata": {
        "id": "WyOPmCdOBHtp"
      }
    },
    {
      "cell_type": "code",
      "source": [
        "import math\n",
        "                                                                                # Function to check if a number is a perfect square\n",
        "def is_perfect_square(num):\n",
        "  sqrt_num = int(math.sqrt(num))\n",
        "  return sqrt_num * sqrt_num == num                                             # Function to check if a number is a Fibonacci number\n",
        "def is_fibonacci(num):\n",
        "  return is_perfect_square(5 * num * num + 4) or is_perfect_square(5 * num * num - 4)                     # Input the limit from the user\n",
        "  limit = int(input(\"Enter the limit to print Fibonacci series up to: \"))            # Print the Fibonacci series up to the limit\n",
        "  print(\"Fibonacci series up to\", limit, \":\")\n",
        "  for i in range(limit):\n",
        "    if is_fibonacci(i): print(i, end=\" \")\n",
        "\n",
        "                                                                                # Initialize an empty string to store the input text\n",
        "    text = \"\"                                                                   # Keep taking text as input until the user types \"stop\"\n",
        "   while True: user_input = input(\"Enter text (type 'stop' to exit): \")\n",
        "   if user_input.lower() == \"stop\":\n",
        "    break text += user_input + \"\\n\"                                             # Display the collected text\n",
        "    print(\"\\nCollected Text:\")\n",
        "    print(text)\n",
        "\n",
        "\n"
      ],
      "metadata": {
        "id": "TBwEY8zyBQaq"
      },
      "execution_count": null,
      "outputs": []
    },
    {
      "cell_type": "markdown",
      "source": [
        "**SET 10 A.** Write a Python program to find the missing number in a given array of numbers between 10 and 20. Sample Output:\n",
        "Original array: 10 11 12 13 14 16 17 18 19 20\n",
        "Missing number in the said array (10-20): 15\n",
        "Original array: 10 11 12 13 14 15 16 17 18 19\n",
        "Missing number in the said array (10-20): 20\n"
      ],
      "metadata": {
        "id": "pzygtUyQBQkJ"
      }
    },
    {
      "cell_type": "code",
      "source": [
        "                                                                             # Given array of numbers between 10 and 20 numbers = [10, 11, 13, 14, 15, 16, 17, 18, 19, 20]\n",
        "                                                                                # Find the missing number between 10 and 20\n",
        " for num in range(10, 21):\n",
        "  if num not in numbers: missing_number = num\n",
        "  break print(\"The missing number between 10 and 20 is:\", missing_number)"
      ],
      "metadata": {
        "id": "tqlXq9GuBX3q"
      },
      "execution_count": null,
      "outputs": []
    },
    {
      "cell_type": "markdown",
      "source": [
        "**SET 10 B.** Given a list of words, count the number of words with more than five characters"
      ],
      "metadata": {
        "id": "CgpixhyfBYOS"
      }
    },
    {
      "cell_type": "code",
      "source": [
        "                                                                                # Given list of words\n",
        "word_list = [\"apple\", \"banana\", \"cherry\", \"date\", \"elderberry\", \"fig\", \"grape\"]\n",
        "\n",
        "                                                                                # Initialize a counter for words with more than five characters\n",
        "count = 0\n",
        "\n",
        "                                                                                # Iterate through the words and count those with more than five characters\n",
        "for word in word_list:\n",
        "    if len(word) > 5:\n",
        "        count += 1\n",
        "\n",
        "print(f\"Number of words with more than five characters: {count}\")"
      ],
      "metadata": {
        "id": "p9MOKQKHBdwU"
      },
      "execution_count": null,
      "outputs": []
    },
    {
      "cell_type": "markdown",
      "source": [
        "**SET 11 A.** Write a program to accept a sentence. Display the sentence in reversing order of its word. Sample Input: Computer is Fun\n",
        "Sample Output: Fun is Computer"
      ],
      "metadata": {
        "id": "szzy2z90Bd_q"
      }
    },
    {
      "cell_type": "code",
      "source": [
        "                                                                                # Input a sentence from the user\n",
        "sentence = input(\"Enter a sentence: \")\n",
        "\n",
        "                                                                                # Split the sentence into words\n",
        "words = sentence.split()\n",
        "\n",
        "                                                                                # Reverse the order of the words\n",
        "reversed_sentence = ' '.join(reversed(words))\n",
        "\n",
        "                                                                                # Display the sentence in reversed order\n",
        "print(\"Reversed Sentence:\", reversed_sentence)\n"
      ],
      "metadata": {
        "id": "lNWHL5uGBrAJ"
      },
      "execution_count": null,
      "outputs": []
    },
    {
      "cell_type": "markdown",
      "source": [
        "**SET 11 B.** Given a list of names, print all names starting with the letter ‘A’."
      ],
      "metadata": {
        "id": "C057EuosBrMB"
      }
    },
    {
      "cell_type": "code",
      "source": [
        "                                                                                # Given list of names\n",
        " names = [\"Alice\", \"Bob\", \"Anna\", \"Alex\", \"Tom\", \"Abby\", \"Aaron\"]\n",
        "                                                                                # Iterate through the names and print those starting with 'A'\n",
        " print(\"Names starting with 'A':\")\n",
        " for name in names:\n",
        "  if name.startswith('A') or name.startswith('a'):\n",
        "    print(name)\n"
      ],
      "metadata": {
        "id": "E53gbOOfBz-q"
      },
      "execution_count": null,
      "outputs": []
    },
    {
      "cell_type": "markdown",
      "source": [
        "**SET 12 A.**  Write a program to input twenty names in an list. Arrange these names in ascending order of  letters..\n",
        "Sample Input:\n",
        "Rohit, Devesh, Indrani, Shivangi, Himanshu, Rishi, Piyush, Deepak, Abhishek, Kunal, ..... Sample Output:\n",
        "Abhishek, Deepak, Devesh, Himanshu, Indrani, Kunal, Piyush, Rishi, Rohit, Shivangi, ....."
      ],
      "metadata": {
        "id": "oFsF7RbYB0mh"
      }
    },
    {
      "cell_type": "code",
      "source": [
        "                                                                                # Input twenty names\n",
        "for i in range(20):\n",
        "    name = input(f\"Enter name {i + 1}: \")\n",
        "    names.append(name)\n",
        "\n",
        "                                                                                # Sort the names in ascending order based on the length\n",
        "names.sort(key=len)\n",
        "\n",
        "                                                                                # Display the names in ascending order of letters\n",
        "print(\"Names in ascending order of letters:\")\n",
        "for name in names:\n",
        "    print(name)"
      ],
      "metadata": {
        "id": "1vlP8fz7muzF"
      },
      "execution_count": null,
      "outputs": []
    },
    {
      "cell_type": "markdown",
      "source": [
        "**SET 12 B.** Write a python program to print following patterns:\n",
        "i)                                      ii)\n",
        "*                                      1234\n",
        "**                                     123\n",
        "***                                    12\n",
        "****                                    1"
      ],
      "metadata": {
        "id": "46kSiskjmvKb"
      }
    },
    {
      "cell_type": "code",
      "source": [
        "1\n",
        "                                                                                # Pattern i\n",
        "for i in range(1, 5):\n",
        "    print(\"*\" * i)\n",
        "\n",
        "2\n",
        "                                                                                # Pattern ii\n",
        "for i in range(4, 0, -1):\n",
        "    for j in range(1, i + 1):\n",
        "        print(j, end=\"\")\n",
        "    print()"
      ],
      "metadata": {
        "id": "uY6Q9UXCn2N9"
      },
      "execution_count": null,
      "outputs": []
    },
    {
      "cell_type": "markdown",
      "source": [
        "**SET 13 A**   Write a program in java to input a sentence replace all vowels with “#” and all consonants with “$”."
      ],
      "metadata": {
        "id": "suX9wInsoAVr"
      }
    },
    {
      "cell_type": "code",
      "source": [
        "                                                                                # Input a sentence from the user\n",
        "sentence = input(\"Enter a sentence: \")\n",
        "\n",
        "                                                                                # Replace vowels with \"#\" and consonants with \"$\"\n",
        "modified_sentence = ''.join(['#' if char in 'AEIOUaeiou' else '$' for char in sentence])\n",
        "\n",
        "                                                                                # Display the modified sentence\n",
        "print(\"Modified Sentence:\", modified_sentence)"
      ],
      "metadata": {
        "id": "4ljIEeOyoNZ7"
      },
      "execution_count": null,
      "outputs": []
    },
    {
      "cell_type": "markdown",
      "source": [
        "**SET 13 B.** Write a python program to print given pattern:\n",
        "i)\n",
        " *\n",
        " * *\n",
        " * * *\n",
        "* * * *\n"
      ],
      "metadata": {
        "id": "3YZY2Q7loNuC"
      }
    },
    {
      "cell_type": "code",
      "source": [
        "                                                                                # Pattern i\n",
        "for i in range(1, 5):\n",
        "    print(\"* \" * i)\n"
      ],
      "metadata": {
        "id": "c4VGrrdMoWEs"
      },
      "execution_count": null,
      "outputs": []
    },
    {
      "cell_type": "markdown",
      "source": [
        "**SET 14 A.** Write a program to accept the names of 10 cities in a List array and their STD (Subscribers Trunk  Dialling) codes in another List. Search for the name of a city input by the user in the list. If found,  display \"Search Successful\" and print the name of the city along with its STD code, or else display the  message \"Search unsuccessful, no such city in the list\"."
      ],
      "metadata": {
        "id": "7QkJ49dVoWwk"
      }
    },
    {
      "cell_type": "code",
      "source": [
        "                                                                                # Initialize lists for cities and STD codes\n",
        "cities = [\"City1\", \"City2\", \"City3\", \"City4\", \"City5\", \"City6\", \"City7\", \"City8\", \"City9\", \"City10\"]\n",
        "std_codes = [\"STD1\", \"STD2\", \"STD3\", \"STD4\", \"STD5\", \"STD6\", \"STD7\", \"STD8\", \"STD9\", \"STD10\"]\n",
        "\n",
        "                                                                                # Input the city to search for\n",
        "search_city = input(\"Enter a city name to search: \")\n",
        "\n",
        "                                                                                # Initialize a flag to track if the city is found\n",
        "found = False\n",
        "\n",
        "                                                                                # Search for the city in the list\n",
        "for i in range(len(cities)):\n",
        "    if cities[i] == search_city:\n",
        "        print(\"Search Successful\")\n",
        "        print(\"City:\", cities[i])\n",
        "        print(\"STD Code:\", std_codes[i])\n",
        "        found = True\n",
        "        break\n",
        "\n",
        "if not found:\n",
        "    print(\"Search Unsuccessful, no such city in the list\")\n"
      ],
      "metadata": {
        "id": "9vGDSq8cofWT"
      },
      "execution_count": null,
      "outputs": []
    },
    {
      "cell_type": "markdown",
      "source": [
        "**SET 14 B.**  Write a python program to calculate the Simple Interest and Amount . Take principal, Rate of  interest and number of months as input from user. Print all the values.\n",
        "SI = p x n x r / 100"
      ],
      "metadata": {
        "id": "5aCT8aFFofns"
      }
    },
    {
      "cell_type": "code",
      "source": [
        "                                                                                # Input principal amount, rate of interest, and number of months from the user\n",
        "principal = float(input(\"Enter the principal amount: \"))\n",
        "rate_of_interest = float(input(\"Enter the rate of interest: \"))\n",
        "months = float(input(\"Enter the number of months: \"))\n",
        "\n",
        "                                                                                # Calculate Simple Interest (SI)\n",
        "simple_interest = (principal * months * rate_of_interest) / 100\n",
        "\n",
        "                                                                                # Calculate the Amount (A) including principal and SI\n",
        "amount = principal + simple_interest\n",
        "\n",
        "                                                                                # Print the calculated values\n",
        "print(\"Principal Amount: Rs.\", principal)\n",
        "print(\"Rate of Interest: %\", rate_of_interest)\n",
        "print(\"Number of Months: \", months)\n",
        "print(\"Simple Interest (SI): Rs.\", simple_interest)\n",
        "print(\"Amount (Principal + SI): Rs.\", amount)\n"
      ],
      "metadata": {
        "id": "Twt71ZAxooiz"
      },
      "execution_count": null,
      "outputs": []
    },
    {
      "cell_type": "markdown",
      "source": [
        "**SET 15 A.** Write a Python program to find a pair with the highest product from a given array of integers. Original array: [1, 2, 3, 4, 7, 0, 8, 4]\n",
        "Maximum product pair is: (7, 8)\n",
        "Original array: [0, -1, -2, -4, 5, 0, -6]\n",
        "Maximum product pair is: (-4, -6)\n"
      ],
      "metadata": {
        "id": "7kbDcFrfopEj"
      }
    },
    {
      "cell_type": "code",
      "source": [
        "                                                                                # Function to find the pair with the highest product\n",
        "def find_highest_product_pair(arr):\n",
        "    if len(arr) < 2:\n",
        "        return \"Array must contain at least two elements.\"\n",
        "\n",
        "    max_product = arr[0] * arr[1]\n",
        "    max_pair = (arr[0], arr[1])\n",
        "\n",
        "    for i in range(len(arr)):\n",
        "        for j in range(i + 1, len(arr)):\n",
        "            product = arr[i] * arr[j]\n",
        "            if product > max_product:\n",
        "                max_product = product\n",
        "                max_pair = (arr[i], arr[j])\n",
        "\n",
        "    return max_pair\n",
        "\n",
        "                                                                                # Original arrays\n",
        "array1 = [1, 2, 3, 4, 7, 0, 8, 4]\n",
        "array2 = [0, -1, -2, -4, 5, 0, -6]\n",
        "\n",
        "                                                                                # Find the pair with the highest product for both arrays\n",
        "result1 = find_highest_product_pair(array1)\n",
        "result2 = find_highest_product_pair(array2)\n",
        "\n",
        "                                                                                # Display the results\n",
        "print(\"Original array:\", array1)\n",
        "print(\"Maximum product pair is:\", result1)\n",
        "\n",
        "print(\"Original array:\", array2)\n",
        "print(\"Maximum product pair is:\", result2)"
      ],
      "metadata": {
        "id": "Brpw4AGco0bc"
      },
      "execution_count": null,
      "outputs": []
    },
    {
      "cell_type": "markdown",
      "source": [
        "**SET 15 B.**  Write a python program to calculate the EMI."
      ],
      "metadata": {
        "id": "WE_g05yVo0xk"
      }
    },
    {
      "cell_type": "code",
      "source": [
        "                                                                                # Function to calculate EMI\n",
        "def calculate_emi(principal, rate, time):\n",
        "    rate = rate / 12 / 100                                                      # Monthly interest rate\n",
        "    n = time * 12                                                               # Total number of installments\n",
        "\n",
        "    emi = (principal * rate * (1 + rate) ** n) / ((1 + rate) ** n - 1)\n",
        "    return emi\n",
        "\n",
        "                                                                                # Input loan details from the user\n",
        "principal = float(input(\"Enter the loan amount (principal): \"))\n",
        "annual_rate = float(input(\"Enter the annual interest rate (in %): \"))\n",
        "loan_term_years = float(input(\"Enter the loan term (in years): \"))\n",
        "\n",
        "                                                                                # Calculate the EMI\n",
        "emi = calculate_emi(principal, annual_rate, loan_term_years)\n",
        "\n",
        "                                                                                # Display the EMI\n",
        "print(\"Your Equated Monthly Installment (EMI) is: Rs.\", round(emi, 2))"
      ],
      "metadata": {
        "id": "ZM1Eb_uVo8iD"
      },
      "execution_count": null,
      "outputs": []
    },
    {
      "cell_type": "markdown",
      "source": [
        "**SET 16 A.** Write a Python program that removes all duplicate elements from an array and returns a new array. Sample Output:\n",
        "Original array: 1 3 5 1 3 7 9\n",
        "After removing duplicate elements from the said array: 1 3 5 7 9\n",
        "Original array: 2 4 2 6 4 8\n",
        "After removing duplicate elements from the said array: 2 4 6 8\n"
      ],
      "metadata": {
        "id": "apfjAaK_o8xr"
      }
    },
    {
      "cell_type": "code",
      "source": [
        "                                                                                # Function to remove duplicates from an array\n",
        "def remove_duplicates(arr):\n",
        "    unique_array = []\n",
        "    for element in arr:\n",
        "        if element not in unique_array:\n",
        "            unique_array.append(element)\n",
        "    return unique_array\n",
        "\n",
        "                                                                                # Original array with duplicates\n",
        "original_array = [1, 2, 2, 3, 4, 4, 5, 6, 6, 7]\n",
        "\n",
        "                                                                                # Remove duplicates and create a new array\n",
        "unique_array = remove_duplicates(original_array)\n",
        "\n",
        "                                                                                # Display the unique array\n",
        "print(\"Original Array:\", original_array)\n",
        "print(\"Array with Duplicates Removed:\", unique_array)"
      ],
      "metadata": {
        "id": "KGu2eR0ppFVb"
      },
      "execution_count": null,
      "outputs": []
    },
    {
      "cell_type": "markdown",
      "source": [
        "**SET 16 B.**  i) Write a python program to demonstrate call by reference.\n",
        "ii) Write a python program to print default arguments.\n"
      ],
      "metadata": {
        "id": "5m-E3s24pFqL"
      }
    },
    {
      "cell_type": "code",
      "source": [
        "                                                                                # Function to modify a list\n",
        "def modify_list(my_list):\n",
        "    my_list.append(4)                                                           # Modifying the list\n",
        "\n",
        "                                                                                # Original list\n",
        "my_list = [1, 2, 3]\n",
        "\n",
        "                                                                                # Call the function\n",
        "modify_list(my_list)\n",
        "\n",
        "                                                                                # The original list is modified\n",
        "print(my_list)                                                                  # Output: [1, 2, 3, 4]"
      ],
      "metadata": {
        "id": "uxkvH5JkpPMj"
      },
      "execution_count": null,
      "outputs": []
    },
    {
      "cell_type": "markdown",
      "source": [
        "**SET 17 A.**  Write a program in Java to initialize an integer array using user input. Find the sum of all the positive  even numbers in the array, product of all the positive odd numbers in the array, sum of all negative  numbers in the array. Display all the results"
      ],
      "metadata": {
        "id": "Equ4HoOFpPdD"
      }
    },
    {
      "cell_type": "code",
      "source": [],
      "metadata": {
        "id": "TjKk5wX4pWPr"
      },
      "execution_count": null,
      "outputs": []
    },
    {
      "cell_type": "markdown",
      "source": [
        "**SET 17 B.** i) Write a python program to demonstrate use of variable length argument.\n",
        "ii) Write a python program to demonstrate the keywords arguments\n"
      ],
      "metadata": {
        "id": "8Vkl0RPwpWdb"
      }
    },
    {
      "cell_type": "code",
      "source": [
        "1.\n",
        "                                                                                # Function with variable-length arguments\n",
        "def sum_values(*args):\n",
        "    total = 0\n",
        "    for num in args:\n",
        "        total += num\n",
        "    return total\n",
        "\n",
        "                                                                                # Example of using the function with different numbers of arguments\n",
        "result1 = sum_values(1, 2, 3, 4, 5)\n",
        "result2 = sum_values(10, 20, 30, 40)\n",
        "result3 = sum_values(5, 10)\n",
        "\n",
        "print(\"Result 1:\", result1)\n",
        "print(\"Result 2:\", result2)\n",
        "print(\"Result 3:\", result3)\n",
        "\n",
        "2.\n",
        "                                                                                # Function with keyword arguments\n",
        "def greet(name, message):\n",
        "    print(f\"{message}, {name}!\")\n",
        "\n",
        "                                                                                # Example of using the function with keyword arguments\n",
        "greet(name=\"Alice\", message=\"Hello\")\n",
        "greet(message=\"Hi\", name=\"Bob\")"
      ],
      "metadata": {
        "id": "6Iic24fxqVj8"
      },
      "execution_count": null,
      "outputs": []
    },
    {
      "cell_type": "markdown",
      "source": [
        "**SET 18 A.** A special number is such that when the sum of its digits is added to the product of its digits , the  result is equal to original number\n",
        "Example : 59\n",
        "5+9 = 14\n",
        "5*9 = 45\n",
        "45+14 = 59 Therefore , 59 is a special two digit number\n",
        "Write a program in java to input the number from user and check whether a number is special  number or not.\n"
      ],
      "metadata": {
        "id": "lN2Yao5XqV-T"
      }
    },
    {
      "cell_type": "code",
      "source": [
        "                                                                                # Function to check if a number is a special number\n",
        "def is_special_number(number):\n",
        "    original_number = number\n",
        "    sum_of_digits = 0\n",
        "    product_of_digits = 1\n",
        "\n",
        "    while number > 0:\n",
        "        digit = number % 10\n",
        "        sum_of_digits += digit\n",
        "        product_of_digits *= digit\n",
        "        number //= 10\n",
        "\n",
        "    return sum_of_digits + product_of_digits == original_number\n",
        "\n",
        "                                                                                # Input a number from the user\n",
        "number = int(input(\"Enter a number: \"))\n",
        "\n",
        "                                                                                # Check if it's a special number\n",
        "if is_special_number(number):\n",
        "    print(f\"{number} is a special number.\")\n",
        "else:\n",
        "    print(f\"{number} is not a special number.\")"
      ],
      "metadata": {
        "id": "5_m6qcE1q7pk"
      },
      "execution_count": null,
      "outputs": []
    },
    {
      "cell_type": "markdown",
      "source": [
        "**SET 18 B.** i) Write a python program to demonstrate zip and unzip.\n",
        "ii) Write a python program to input the sequence from user and print the vowels in the sequence  using filter()\n"
      ],
      "metadata": {
        "id": "rf4xoRVyq7-d"
      }
    },
    {
      "cell_type": "code",
      "source": [
        "1.\n",
        "                                                                                # Original lists\n",
        "names = [\"Alice\", \"Bob\", \"Charlie\"]\n",
        "scores = [85, 92, 78]\n",
        "\n",
        "                                                                                # Zip the lists\n",
        "zipped_data = zip(names, scores)\n",
        "\n",
        "                                                                                # Unzip (or transpose) the data back into separate lists\n",
        "unzipped_names, unzipped_scores = zip(*zipped_data)\n",
        "\n",
        "                                                                                # Display the original and unzipped data\n",
        "print(\"Original data:\")\n",
        "print(\"Names:\", names)\n",
        "print(\"Scores:\", scores)\n",
        "\n",
        "print(\"\\nUnzipped data:\")\n",
        "print(\"Names:\", unzipped_names)\n",
        "print(\"Scores:\", unzipped_scores)\n",
        "\n",
        "2.\n",
        "                                                                                # Function to check if a character is a vowel\n",
        "def is_vowel(char):\n",
        "    vowels = \"AEIOUaeiou\"\n",
        "    return char in vowels\n",
        "\n",
        "                                                                                # Input a sequence from the user\n",
        "sequence = input(\"Enter a sequence: \")\n",
        "\n",
        "                                                                                # Use filter() to get the vowels from the sequence\n",
        "vowels = list(filter(is_vowel, sequence))\n",
        "\n",
        "                                                                                # Display the vowels\n",
        "print(\"Vowels in the sequence:\", ''.join(vowels))"
      ],
      "metadata": {
        "id": "137xOokLrD71"
      },
      "execution_count": null,
      "outputs": []
    },
    {
      "cell_type": "markdown",
      "source": [
        "**SET 19 A.** Write a python program described as below: -\n",
        "Data Members: name, address, phone, subject specialization, monthly salary, income tax. Member methods:  \n",
        "(i) To accept the details of a teacher including the monthly salary.\n",
        "(ii) To display the details of the teacher.\n",
        "(iii) To compute the annual Income Tax as 5% of the annual salary above Rs.1,75,000/-. Write a main method to create object of a class and call the above member method.\n"
      ],
      "metadata": {
        "id": "WBzUqqkfrEUq"
      }
    },
    {
      "cell_type": "code",
      "source": [
        "class Teacher:\n",
        "    def __init__(self):\n",
        "        self.name = \"\"\n",
        "        self.address = \"\"\n",
        "        self.phone = \"\"\n",
        "        self.subject_specialization = \"\"\n",
        "        self.monthly_salary = 0\n",
        "        self.income_tax = 0\n",
        "\n",
        "    def input_details(self):\n",
        "        self.name = input(\"Enter name: \")\n",
        "        self.address = input(\"Enter address: \")\n",
        "        self.phone = input(\"Enter phone number: \")\n",
        "        self.subject_specialization = input(\"Enter subject specialization: \")\n",
        "        self.monthly_salary = float(input(\"Enter monthly salary: \"))\n",
        "\n",
        "    def compute_income_tax(self):\n",
        "        annual_salary = self.monthly_salary * 12\n",
        "        if annual_salary > 175000:\n",
        "            self.income_tax = 0.05 * (annual_salary - 175000)\n",
        "\n",
        "    def display_details(self):\n",
        "        print(\"\\nTeacher Details:\")\n",
        "        print(\"Name:\", self.name)\n",
        "        print(\"Address:\", self.address)\n",
        "        print(\"Phone:\", self.phone)\n",
        "        print(\"Subject Specialization:\", self.subject_specialization)\n",
        "        print(\"Monthly Salary: Rs.\", self.monthly_salary)\n",
        "        print(\"Income Tax: Rs.\", self.income_tax)\n",
        "        annual_salary = self.monthly_salary * 12\n",
        "        print(\"Annual Salary: Rs.\", annual_salary)\n",
        "\n",
        "                                                                                # Create an object of the Teacher class\n",
        "teacher = Teacher()\n",
        "\n",
        "                                                                                # Input teacher details\n",
        "teacher.input_details()\n",
        "\n",
        "                                                                                # Compute income tax\n",
        "teacher.compute_income_tax()\n",
        "\n",
        "                                                                                # Display teacher details\n",
        "teacher.display_details()"
      ],
      "metadata": {
        "id": "U2-Byd0xrM-j"
      },
      "execution_count": null,
      "outputs": []
    },
    {
      "cell_type": "markdown",
      "source": [
        "**SET 19 B.**  i) Write a python program to demonstrate reduce functions.\n",
        "ii) Write a python program to illustrate enumerate functions\n"
      ],
      "metadata": {
        "id": "l1N1TpTerPtr"
      }
    },
    {
      "cell_type": "code",
      "source": [
        "1.\n",
        "from functools import reduce\n",
        "\n",
        "                                                                                # Function to calculate the product of two numbers\n",
        "def multiply(x, y):\n",
        "    return x * y\n",
        "\n",
        "                                                                                # List of numbers\n",
        "numbers = [1, 2, 3, 4, 5]\n",
        "\n",
        "                                                                                # Use reduce to find the product of all numbers\n",
        "product = reduce(multiply, numbers)\n",
        "\n",
        "print(\"Product of all numbers:\", product)\n",
        "\n",
        "2.\n",
        "                                                                                # List of names\n",
        "names = [\"Alice\", \"Bob\", \"Charlie\", \"David\"]\n",
        "\n",
        "                                                                                # Use enumerate to iterate through the list with index and value\n",
        "for index, name in enumerate(names):\n",
        "    print(f\"Index {index}: {name}\")"
      ],
      "metadata": {
        "id": "owhVPRYSrY3E"
      },
      "execution_count": null,
      "outputs": []
    },
    {
      "cell_type": "markdown",
      "source": [
        "**SET 20 A.** A triangle is said to be an 'Equable Triangle', if the area of the triangle is equal to its perimeter. Write a program to enter three sides of a triangle. Check and print whether the triangle is equable or not. For example, a right angled triangle with sides 5, 12 and 13 has its area and perimeter both equal to 30."
      ],
      "metadata": {
        "id": "dmfzQUMXrZET"
      }
    },
    {
      "cell_type": "code",
      "source": [
        "import math\n",
        "\n",
        "                                                                                # Input the sides of the triangle from the user\n",
        "side1 = float(input(\"Enter the length of side 1: \"))\n",
        "side2 = float(input(\"Enter the length of side 2: \"))\n",
        "side3 = float(input(\"Enter the length of side 3: \"))\n",
        "\n",
        "                                                                                # Calculate the perimeter of the triangle\n",
        "perimeter = side1 + side2 + side3\n",
        "\n",
        "                                                                                # Calculate the semi-perimeter\n",
        "s = perimeter / 2\n",
        "\n",
        "                                                                                # Calculate the area of the triangle using Heron's formula\n",
        "area = math.sqrt(s * (s - side1) * (s - side2) * (s - side3))\n",
        "\n",
        "                                                                                # Check if the triangle is equable\n",
        "if area == perimeter:\n",
        "    print(\"The triangle is equable.\")\n",
        "else:\n",
        "    print(\"The triangle is not equable.\")"
      ],
      "metadata": {
        "id": "6jPiPcDdrhG0"
      },
      "execution_count": null,
      "outputs": []
    },
    {
      "cell_type": "markdown",
      "source": [
        "**SET 20 B.**  Write a Python program to find the greatest common divisor (GCD) of two numbers using a  function"
      ],
      "metadata": {
        "id": "uMRy-G8RrhbV"
      }
    },
    {
      "cell_type": "code",
      "source": [
        "                                                                                # Function to find the GCD of two numbers using the Euclidean algorithm\n",
        "def find_gcd(a, b):\n",
        "    while b:\n",
        "        a, b = b, a % b\n",
        "    return a\n",
        "\n",
        "                                                                                # Input two numbers from the user\n",
        "num1 = int(input(\"Enter the first number: \"))\n",
        "num2 = int(input(\"Enter the second number: \"))\n",
        "\n",
        "                                                                                # Call the function to find the GCD\n",
        "gcd = find_gcd(num1, num2)\n",
        "\n",
        "                                                                                # Display the GCD\n",
        "print(f\"The GCD of {num1} and {num2} is {gcd}\")\n"
      ],
      "metadata": {
        "id": "KdyohZ-rsjqJ"
      },
      "execution_count": null,
      "outputs": []
    },
    {
      "cell_type": "markdown",
      "source": [
        "**SET 21 A.**  An air-conditioned bus charges fare from the passengers based on the distance travelled as per the tariff given below:\n",
        "Distance Travelled Fare\n",
        "Up to 10 km Fixed charge ₹80\n",
        "11 km to 20 km ₹6/km\n",
        "21 km to 30 km ₹5/km\n",
        "31 km and above ₹4/km\n",
        "Design a program to input distance travelled by the passenger. Calculate and display the fare to be paid.\n"
      ],
      "metadata": {
        "id": "JfpRi0QjskAS"
      }
    },
    {
      "cell_type": "code",
      "source": [
        "                                                                                # Input the distance travelled by the passenger\n",
        "distance = float(input(\"Enter the distance travelled (in kilometers): \"))\n",
        "\n",
        "                                                                                # Define the tariff\n",
        "fixed_charge = 80\n",
        "fare_per_km1 = 6\n",
        "fare_per_km2 = 5\n",
        "fare_per_km3 = 4\n",
        "\n",
        "                                                                                # Calculate the fare based on the distance\n",
        "if distance <= 10:\n",
        "    fare = fixed_charge\n",
        "elif distance <= 20:\n",
        "    fare = fixed_charge + (distance - 10) * fare_per_km1\n",
        "elif distance <= 30:\n",
        "    fare = fixed_charge + 10 * fare_per_km1 + (distance - 20) * fare_per_km2\n",
        "else:\n",
        "    fare = fixed_charge + 10 * fare_per_km1 + 10 * fare_per_km2 + (distance - 30) * fare_per_km3\n",
        "\n",
        "                                                                                # Display the fare to be paid\n",
        "print(\"The fare to be paid is Rs.\", fare)"
      ],
      "metadata": {
        "id": "N7dbMvOCswWU"
      },
      "execution_count": null,
      "outputs": []
    },
    {
      "cell_type": "markdown",
      "source": [
        "**SET 21 B.**  Write a program in Python to accept a word. Pass it to a method magic(String str). The method  checks the string for the presence of consecutive letters. If two letters are consecutive at any  position then the method prints \"It is a magic string\", otherwise it prints \"It is not a magic string\". Sample Input: computer\n",
        "Sample Output: It is not a magic string\n",
        "Sample Input: DELHI\n",
        "Sample Output: It is a magic string.  \n",
        "Note : DELHI is magic string because ‘DE’ are consecutive letters.\n"
      ],
      "metadata": {
        "id": "huGgCsSXsxGc"
      }
    },
    {
      "cell_type": "code",
      "source": [
        "def magic(word):\n",
        "    for i in range(len(word) - 1):\n",
        "        if ord(word[i + 1]) == ord(word[i]) + 1 or ord(word[i + 1]) == ord(word[i]) - 1:\n",
        "            print(\"It is a magic string\")\n",
        "            return\n",
        "    print(\"It is not a magic string\")\n",
        "\n",
        "                                                                                # Input a word from the user\n",
        "word = input(\"Enter a word: \")\n",
        "\n",
        "                                                                                # Call the magic method to check for consecutive letters\n",
        "magic(word)"
      ],
      "metadata": {
        "id": "H3pRWQhvtCTV"
      },
      "execution_count": null,
      "outputs": []
    },
    {
      "cell_type": "markdown",
      "source": [
        "**SET 22 A.**  A College displays a notice on the notice board regarding admission in First year for choosing stream  according to marks obtained in English,Maths and Science in Class 12.\n",
        "Marks obtained in different subjects Stream\n",
        "Eng,Maths and Science >= 80% Computer Science\n",
        "Eng and Science >= 80%, Maths >= 60% Biotechnology\n",
        "Eng, Maths and Science >= 60% Information Technology\n",
        "Print the appropriate stream allotted to a candidate. Write a program to accept marks in English, Maths and Science from the console.\n"
      ],
      "metadata": {
        "id": "AhzyBuXEtCqz"
      }
    },
    {
      "cell_type": "code",
      "source": [
        "                                                                                # Input marks in English, Maths, and Science from the user\n",
        "english_marks = float(input(\"Enter marks in English: \"))\n",
        "maths_marks = float(input(\"Enter marks in Maths: \"))\n",
        "science_marks = float(input(\"Enter marks in Science: \"))\n",
        "\n",
        "                                                                                # Check for the stream based on marks\n",
        "if english_marks >= 80 and maths_marks >= 80 and science_marks >= 80:\n",
        "    stream = \"Computer Science\"\n",
        "elif english_marks >= 80 and science_marks >= 80 and maths_marks >= 60:\n",
        "    stream = \"Biotechnology\"\n",
        "elif english_marks >= 60 and maths_marks >= 60 and science_marks >= 60:\n",
        "    stream = \"Information Technology\"\n",
        "else:\n",
        "    stream = \"Undecided\"\n",
        "\n",
        "                                                                                # Display the allotted stream\n",
        "print(f\"The allotted stream for the candidate is {stream}.\")\n"
      ],
      "metadata": {
        "id": "lTq42HPktK20"
      },
      "execution_count": null,
      "outputs": []
    },
    {
      "cell_type": "markdown",
      "source": [
        "**SET 22 B.**  Write a program in Python to accept a String from the user. Pass the String to a method  Display(String str) which displays the consonants present in the String.\n",
        "Sample Input: computer\n",
        "Sample Output:\n",
        "c m p t r\n"
      ],
      "metadata": {
        "id": "DBJnDNTRtLQ8"
      }
    },
    {
      "cell_type": "code",
      "source": [
        "                                                                                # Function to display consonants in a string\n",
        "def display_consonants(input_str):\n",
        "    consonants = \"\"\n",
        "    for char in input_str:\n",
        "        if char.isalpha() and char.lower() not in 'aeiou':\n",
        "            consonants += char\n",
        "    print(\"Consonants in the string:\", consonants)\n",
        "\n",
        "                                                                                # Input a string from the user\n",
        "input_string = input(\"Enter a string: \")\n",
        "\n",
        "                                                                                # Call the display_consonants method to display consonants\n",
        "display_consonants(input_string)"
      ],
      "metadata": {
        "id": "6R5HEBustSZE"
      },
      "execution_count": null,
      "outputs": []
    },
    {
      "cell_type": "markdown",
      "source": [
        "**SET 23 A.**  A courier company charges differently for 'Ordinary' booking and 'Express' booking based on the weight of the parcel as per the tariff given below:\n",
        "Weight of parcel Ordinary booking Express booking Up to 100 gm ₹80 ₹100\n",
        "101 to 500 gm ₹150 ₹200\n",
        "501 gm to 1000 gm ₹210 ₹250\n",
        "More than 1000 gm ₹250 ₹300\n",
        "Write a program to input weight of a parcel and type of booking (`O' for ordinary and 'E' for express). Calculate and print the charges accordingly\n"
      ],
      "metadata": {
        "id": "8Qa-UU5VtSju"
      }
    },
    {
      "cell_type": "code",
      "source": [
        "                                                                                # Input the weight of the parcel and type of booking from the user\n",
        "weight = float(input(\"Enter the weight of the parcel (in grams): \"))\n",
        "booking_type = input(\"Enter the type of booking (O for Ordinary, E for Express): \")\n",
        "\n",
        "                                                                                # Define the tariff\n",
        "ordinary_tariff = {\n",
        "    \"up_to_100\": 80,\n",
        "    \"101_to_500\": 150,\n",
        "    \"501_to_1000\": 210,\n",
        "    \"more_than_1000\": 250\n",
        "}\n",
        "\n",
        "express_tariff = {\n",
        "    \"up_to_100\": 100,\n",
        "    \"101_to_500\": 200,\n",
        "    \"501_to_1000\": 250,\n",
        "    \"more_than_1000\": 300\n",
        "}\n",
        "\n",
        "                                                                                # Calculate the charges based on the weight and booking type\n",
        "if weight <= 100:\n",
        "    charges = ordinary_tariff[\"up_to_100\"] if booking_type == \"O\" else express_tariff[\"up_to_100\"]\n",
        "elif weight <= 500:\n",
        "    charges = ordinary_tariff[\"101_to_500\"] if booking_type == \"O\" else express_tariff[\"101_to_500\"]\n",
        "elif weight <= 1000:\n",
        "    charges = ordinary_tariff[\"501_to_1000\"] if booking_type == \"O\" else express_tariff[\"501_to_1000\"]\n",
        "else:\n",
        "    charges = ordinary_tariff[\"more_than_1000\"] if booking_type == \"O\" else express_tariff[\"more_than_1000\"]\n",
        "\n",
        "                                                                                # Display the charges\n",
        "print(f\"The charges for the parcel ({weight} grams) with {booking_type} booking is Rs.{charges}.\")\n"
      ],
      "metadata": {
        "id": "YCKAuCpxtaD0"
      },
      "execution_count": null,
      "outputs": []
    },
    {
      "cell_type": "markdown",
      "source": [
        "**SET 23 B.**  Write a program using method overloading that computes the area of a parallelogram and a  rhombus.  \n",
        "Formula:\n",
        "Area of a parallelogram = base * height\n",
        "Area of a rhombus = (1/2) * d1 * d2\n",
        "(where, d1 and d2 are the diagonals)"
      ],
      "metadata": {
        "id": "UFe1UKm-tacM"
      }
    },
    {
      "cell_type": "code",
      "source": [
        "class Geometry:\n",
        "    def calculate_area(self, base, height, shape=\"parallelogram\", diagonal1=None, diagonal2=None):\n",
        "        if shape == \"parallelogram\":\n",
        "            area = base * height\n",
        "        elif shape == \"rhombus\" and diagonal1 is not None and diagonal2 is not None:\n",
        "            area = 0.5 * diagonal1 * diagonal2\n",
        "        else:\n",
        "            area = 0                                                                                  # Default to 0 for unknown shape or missing parameters\n",
        "        return area\n",
        "\n",
        "                                                                                                        # Create an object of the Geometry class\n",
        "geometry = Geometry()\n",
        "\n",
        "                                                                                                       # Calculate the area of a parallelogram\n",
        "parallelogram_area = geometry.calculate_area(base=5, height=8, shape=\"parallelogram\")\n",
        "print(\"Area of parallelogram:\", parallelogram_area)\n",
        "\n",
        "                                                                                                             # Calculate the area of a rhombus\n",
        "rhombus_area = geometry.calculate_area(shape=\"rhombus\", diagonal1=6, diagonal2=8)\n",
        "print(\"Area of rhombus:\", rhombus_area)\n"
      ],
      "metadata": {
        "id": "VfOoC04ltkNU"
      },
      "execution_count": null,
      "outputs": []
    },
    {
      "cell_type": "markdown",
      "source": [
        "**SET 24 A.**  The standard form of quadratic equation is given by: ax2 + bx + c = 0, where d = b2 - 4ac, is known as discriminant that determines the nature of the roots of the equation as: Condition Nature\n",
        "if d >= 0 Roots are real\n",
        "if d < 0 Roots are imaginary\n",
        "Write a program to determine the nature and the roots of a quadratic equation, taking a, b, c as input. If d = b2 - 4ac is greater than or equal to zero, then display 'Roots are real', otherwise display 'Roots are imaginary'. The roots are determined by the formula as: r1 = (-b + √(b2 - 4ac)) / 2a , r2 = (-b - √(b2 - 4ac)) / 2a\n"
      ],
      "metadata": {
        "id": "4t1W-Hlatkk0"
      }
    },
    {
      "cell_type": "code",
      "source": [
        "import math\n",
        "\n",
        "                                                                                             # Input coefficients a, b, and c from the user\n",
        "a = float(input(\"Enter coefficient a: \"))\n",
        "b = float(input(\"Enter coefficient b: \"))\n",
        "c = float(input(\"Enter coefficient c: \"))\n",
        "\n",
        "                                                                                             # Calculate the discriminant\n",
        "discriminant = b**2 - 4*a*c\n",
        "\n",
        "                                                                                             # Check the nature of roots based on the discriminant\n",
        "if discriminant >= 0:\n",
        "                                                                                              # Calculate real roots\n",
        "    root1 = (-b + math.sqrt(discriminant)) / (2 * a)\n",
        "    root2 = (-b - math.sqrt(discriminant)) / (2 * a)\n",
        "    print(\"Roots are real\")\n",
        "    print(f\"Root 1: {root1}\")\n",
        "    print(f\"Root 2: {root2}\")\n",
        "else:\n",
        "    print(\"Roots are imaginary\")"
      ],
      "metadata": {
        "id": "gUSWuzDltuyN"
      },
      "execution_count": null,
      "outputs": []
    },
    {
      "cell_type": "markdown",
      "source": [
        "**SET 24 B.**  i) Write a program to demonstrate lambda filter function.\n",
        "ii) Write a program to demonstrate lambda map function\n"
      ],
      "metadata": {
        "id": "KTXWq2tItu_s"
      }
    },
    {
      "cell_type": "code",
      "source": [
        "1.\n",
        "                                                                                # Create a list of numbers\n",
        "numbers = [1, 2, 3, 4, 5, 6, 7, 8, 9, 10]\n",
        "\n",
        "                                                                                # Use filter and a lambda function to filter even numbers\n",
        "filtered_numbers = list(filter(lambda x: x % 2 == 0, numbers))\n",
        "\n",
        "                                                                                # Print the filtered numbers\n",
        "print(\"Even numbers:\", filtered_numbers)\n",
        "\n",
        "2.\n",
        "                                                                                # Create a list of numbers\n",
        "numbers = [1, 2, 3, 4, 5]\n",
        "\n",
        "                                                                                # Use map and a lambda function to square each number\n",
        "squared_numbers = list(map(lambda x: x**2, numbers))\n",
        "\n",
        "                                                                                # Print the squared numbers\n",
        "print(\"Squared numbers:\", squared_numbers)"
      ],
      "metadata": {
        "id": "v9zczZEfuItg"
      },
      "execution_count": null,
      "outputs": []
    },
    {
      "cell_type": "markdown",
      "source": [
        "**SET 25 A.** In order to purchase an old car, the depreciated value can be calculated as per the tariff given below:\n",
        "No. of years used Rate of depreciation\n",
        " 1 10%\n",
        " 2 20%\n",
        " 3 30%\n",
        " 4 50%\n",
        " Above 4 years 60%\n",
        "Write a menu driven program to input showroom price and the number of years the car is used ('1' for one year old, '2' for two years old and so on). Calculate the depreciated value. Display the original price of the car, depreciated value and the amount to be paid.\n"
      ],
      "metadata": {
        "id": "XBPHUmbauI7_"
      }
    },
    {
      "cell_type": "code",
      "source": [
        "def calculate_depreciation(years_used, showroom_price):\n",
        "    depreciation_rate = 0\n",
        "\n",
        "    if years_used == 1:\n",
        "        depreciation_rate = 0.10\n",
        "    elif years_used == 2:\n",
        "        depreciation_rate = 0.20\n",
        "    elif years_used == 3:\n",
        "        depreciation_rate = 0.30\n",
        "    elif years_used == 4:\n",
        "        depreciation_rate = 0.50\n",
        "    else:\n",
        "        depreciation_rate = 0.60\n",
        "\n",
        "    depreciated_value = showroom_price * (1 - depreciation_rate)\n",
        "    return depreciated_value\n",
        "\n",
        "def main():\n",
        "    showroom_price = float(input(\"Enter the showroom price of the car: \"))\n",
        "    years_used = int(input(\"Enter the number of years the car is used (1, 2, 3, 4, or above 4): \"))\n",
        "\n",
        "    if years_used < 1:\n",
        "        print(\"Invalid input for years used.\")\n",
        "        return\n",
        "\n",
        "    depreciated_value = calculate_depreciation(years_used, showroom_price)\n",
        "    amount_to_be_paid = showroom_price - depreciated_value\n",
        "\n",
        "    print(\"\\nOriginal Price: $\", showroom_price)\n",
        "    print(\"Depreciated Value: $\", depreciated_value)\n",
        "    print(\"Amount to be Paid: $\", amount_to_be_paid)\n",
        "\n",
        "if __name__ == \"__main\":\n",
        "    main()"
      ],
      "metadata": {
        "id": "w0SW-JRvuPpM"
      },
      "execution_count": null,
      "outputs": []
    },
    {
      "cell_type": "markdown",
      "source": [
        "**SET 25 B.** Write a program to input a sentence. Find and display the following:\n",
        " (i) Number of words present in the sentence\n",
        " (ii) Number of letters present in the sentence\n",
        " Assume that the sentence has neither include any digit nor a Special character.\n"
      ],
      "metadata": {
        "id": "ydTJdY7juQbF"
      }
    },
    {
      "cell_type": "code",
      "source": [
        "def analyze_sentence(sentence):\n",
        "    words = sentence.split()\n",
        "    word_count = len(words)\n",
        "    letter_count = sum(len(word) for word in words)\n",
        "\n",
        "    return word_count, letter_count\n",
        "\n",
        "def main():\n",
        "    sentence = input(\"Enter a sentence: \")\n",
        "\n",
        "    word_count, letter_count = analyze_sentence(sentence)\n",
        "\n",
        "    print(\"Number of words present in the sentence:\", word_count)\n",
        "    print(\"Number of letters present in the sentence:\", letter_count)\n",
        "\n",
        "if __name__ == \"__main__\":\n",
        "    main()"
      ],
      "metadata": {
        "id": "VJK8Dp3JuW9F"
      },
      "execution_count": null,
      "outputs": []
    },
    {
      "cell_type": "markdown",
      "source": [
        "**SET 26 A.** i) Given two sets, find the union, intersection, and difference between them\n",
        "ii) Write a program that finds the average value of all the elements in a list."
      ],
      "metadata": {
        "id": "Ow6rYr_uuXM9"
      }
    },
    {
      "cell_type": "code",
      "source": [
        "1.\n",
        "                                                                                # Input sets\n",
        "set1 = {1, 2, 3, 4, 5}\n",
        "set2 = {3, 4, 5, 6, 7}\n",
        "\n",
        "                                                                                # Union\n",
        "union_set = set1.union(set2)\n",
        "print(\"Union:\", union_set)\n",
        "\n",
        "                                                                                # Intersection\n",
        "intersection_set = set1.intersection(set2)\n",
        "print(\"Intersection:\", intersection_set)\n",
        "\n",
        "                                                                                # Difference (elements in set1 but not in set2)\n",
        "difference_set1 = set1.difference(set2)\n",
        "print(\"Difference (Set1 - Set2):\", difference_set1)\n",
        "\n",
        "                                                                                # Difference (elements in set2 but not in set1)\n",
        "difference_set2 = set2.difference(set1)\n",
        "print(\"Difference (Set2 - Set1):\", difference_set2)\n",
        "\n",
        "2.\n",
        "def find_average(numbers):\n",
        "    if len(numbers) == 0:\n",
        "        return 0                                                                # Handle the case of an empty list to avoid division by zero\n",
        "    total = sum(numbers)\n",
        "    average = total / len(numbers)\n",
        "    return average\n",
        "\n",
        "                                                                                # Input list\n",
        "numbers = [1, 2, 3, 4, 5]\n",
        "\n",
        "average = find_average(numbers)\n",
        "print(\"Average:\", average)"
      ],
      "metadata": {
        "id": "Bkhv4ASzuhZ1"
      },
      "execution_count": null,
      "outputs": []
    },
    {
      "cell_type": "markdown",
      "source": [
        "**SET 26 B.**  Write a program in Python to accept a word/a String and display the new string after removing all  the vowels present in it.\n",
        " Sample Input: COMPUTER APPLICATIONS\n",
        " Sample Output: CMPTR PPLCTNS\n"
      ],
      "metadata": {
        "id": "lTFx1B--uhx1"
      }
    },
    {
      "cell_type": "code",
      "source": [
        "def remove_vowels(input_string):\n",
        "    vowels = \"AEIOUaeiou\"\n",
        "    new_string = \"\"\n",
        "\n",
        "    for char in input_string:\n",
        "        if char not in vowels:\n",
        "            new_string += char\n",
        "\n",
        "    return new_string\n",
        "\n",
        "                                                                                # Input a word or string\n",
        "input_string = input(\"Enter a word or string: \")\n",
        "\n",
        "result = remove_vowels(input_string)\n",
        "print(\"String after removing vowels:\", result)\n"
      ],
      "metadata": {
        "id": "-9HT92dlurbt"
      },
      "execution_count": null,
      "outputs": []
    },
    {
      "cell_type": "markdown",
      "source": [
        "**SET 27 A.**  The standard form of quadratic equation is given by: ax2 + bx + c = 0, where d = b2 - 4ac, is known as discriminant that determines the nature of the roots of the equation as: Condition Nature\n",
        "if d >= 0 Roots are real\n",
        "if d < 0 Roots are imaginary\n",
        "Write a program to determine the nature and the roots of a quadratic equation, taking a, b, c as input. If d = b2 - 4ac is greater than or equal to zero, then display 'Roots are real', otherwise display 'Roots are imaginary'. The roots are determined by the formula as: r1 = (-b + √(b2 - 4ac)) / 2a , r2 = (-b - √(b2 - 4ac)) / 2a\n"
      ],
      "metadata": {
        "id": "GDqZ4E5_ursl"
      }
    },
    {
      "cell_type": "code",
      "source": [],
      "metadata": {
        "id": "wWx0yHgou6vs"
      },
      "execution_count": null,
      "outputs": []
    },
    {
      "cell_type": "markdown",
      "source": [
        "**SET 27 B.**  Write a program to accept a String in upper case and replace all the vowels present in the String  with Asterisk (*) sign.\n",
        "Sample Input: \"TATA STEEL IS IN JAMSHEDPUR\"\n",
        "Sample output: T*T* ST**L *S *N J*MSH*DP*R\n"
      ],
      "metadata": {
        "id": "xd9LmWHcu697"
      }
    },
    {
      "cell_type": "code",
      "source": [
        "def replace_vowels_with_asterisk(input_string):\n",
        "    vowels = \"AEIOU\"\n",
        "    new_string = \"\"\n",
        "\n",
        "    for char in input_string:\n",
        "        if char in vowels:\n",
        "            new_string += \"*\"\n",
        "        else:\n",
        "            new_string += char\n",
        "\n",
        "    return new_string\n",
        "\n",
        "                                                                                # Input a string in uppercase\n",
        "input_string = input(\"Enter a string in uppercase: \")\n",
        "\n",
        "result = replace_vowels_with_asterisk(input_string)\n",
        "print(\"String with vowels replaced by asterisk:\", result)"
      ],
      "metadata": {
        "id": "F8G5XNFMvEGs"
      },
      "execution_count": null,
      "outputs": []
    },
    {
      "cell_type": "markdown",
      "source": [
        "**SET 28 A.** *SHOCKING QUESTION*"
      ],
      "metadata": {
        "id": "FWNz-0QPvEVD"
      }
    },
    {
      "cell_type": "markdown",
      "source": [
        "**SET 28 B.** Consider the sentence as given below:\n",
        "Blue bottle is in Blue bag lying on Blue carpet\n",
        "Write a program to assign the given sentence to a string variable. Replace the word Blue with Red at  all its occurrence. Display the new string as shown below:\n",
        "Red bottle is in Red bag lying on Red carpet\n"
      ],
      "metadata": {
        "id": "dqVELtwCwyF1"
      }
    },
    {
      "cell_type": "code",
      "source": [
        "                                                                                # Assign the given sentence to a string variable\n",
        "original_sentence = \"Blue bottle is in Blue bag lying on Blue carpet\"\n",
        "\n",
        "                                                                                # Replace 'Blue' with 'Red' in the sentence\n",
        "new_sentence = original_sentence.replace(\"Blue\", \"Red\")\n",
        "\n",
        "                                                                                # Display the new string\n",
        "print(\"Original Sentence:\")\n",
        "print(original_sentence)\n",
        "print(\"\\nNew Sentence:\")\n",
        "print(new_sentence)\n"
      ],
      "metadata": {
        "id": "tYj3l21pxzHU"
      },
      "execution_count": null,
      "outputs": []
    },
    {
      "cell_type": "markdown",
      "source": [
        "**SET 29 A.** *SHOCKING QUESTION*"
      ],
      "metadata": {
        "id": "kdeqaqwaxzaU"
      }
    },
    {
      "cell_type": "markdown",
      "source": [
        "**SET 29 B.** Write a program to accept a string. Convert the string into upper case letters. Count and output the  number of double letter sequences that exist in the string.\n",
        "Sample Input: \"SHE WAS FEEDING THE LITTLE RABBIT WITH AN APPLE\"\n",
        "Sample Output: 4\n"
      ],
      "metadata": {
        "id": "qnDvRAn6yFe1"
      }
    },
    {
      "cell_type": "code",
      "source": [
        "def count_double_letter_sequences(input_string):\n",
        "    input_string = input_string.upper()\n",
        "    count = 0\n",
        "\n",
        "    for i in range(len(input_string) - 1):\n",
        "        if input_string[i] == input_string[i + 1]:\n",
        "            count += 1\n",
        "\n",
        "    return count\n",
        "\n",
        "                                                                                # Input a string\n",
        "input_string = input(\"Enter a string: \")\n",
        "\n",
        "count = count_double_letter_sequences(input_string)\n",
        "print(\"Number of double letter sequences:\", count)\n"
      ],
      "metadata": {
        "id": "rfMbX3F_yNZO"
      },
      "execution_count": null,
      "outputs": []
    },
    {
      "cell_type": "markdown",
      "source": [
        "**SET 30 A.** Write a program to accept a word. Check and display whether the word is a palindrome or only a  special word or none of them.\n",
        "Special words are those words which start and end with the same letter.\n",
        "Example: EXISTENCE, COMIC, WINDOW\n",
        "Palindrome words are those words which read the same from left to right and vice-versa. Example: MALYALAM, MADAM, LEVEL, ROTATOR, CIVIC\n",
        "All palindromes are special words but all special words are not palindromes.\n"
      ],
      "metadata": {
        "id": "6Wc6MFx5yNjG"
      }
    },
    {
      "cell_type": "code",
      "source": [
        "def is_palindrome(word):\n",
        "    return word == word[::-1]\n",
        "\n",
        "def is_special_word(word):\n",
        "    return word[0] == word[-1]\n",
        "\n",
        "def check_word_type(word):\n",
        "    if is_palindrome(word) and is_special_word(word):\n",
        "        return \"Palindrome and Special Word\"\n",
        "    elif is_palindrome(word):\n",
        "        return \"Palindrome\"\n",
        "    elif is_special_word(word):\n",
        "        return \"Special Word\"\n",
        "    else:\n",
        "        return \"Neither Palindrome nor Special Word\"\n",
        "\n",
        "                                                                                # Input a word\n",
        "word = input(\"Enter a word: \")\n",
        "\n",
        "result = check_word_type(word)\n",
        "print(\"The word is:\", result)"
      ],
      "metadata": {
        "id": "8F_tohW4yUjc"
      },
      "execution_count": null,
      "outputs": []
    },
    {
      "cell_type": "markdown",
      "source": [
        "**SET 30 B.** Write a program to input twenty names in an list. Arrange these names in ascending order of letters"
      ],
      "metadata": {
        "id": "n42z2xgdyUuE"
      }
    },
    {
      "cell_type": "code",
      "source": [
        "                                                                                # Input twenty names and store them in a list\n",
        "names = []\n",
        "for i in range(20):\n",
        "    name = input(f\"Enter name {i+1}: \")\n",
        "    names.append(name)\n",
        "\n",
        "                                                                                # Sort the list of names in ascending order based on the number of letters\n",
        "names.sort(key=lambda x: len(x))\n",
        "\n",
        "                                                                                # Display the names in ascending order\n",
        "print(\"\\nNames in ascending order of letters:\")\n",
        "for name in names:\n",
        "    print(name)\n"
      ],
      "metadata": {
        "id": "F5B_LSrkyaGE"
      },
      "execution_count": null,
      "outputs": []
    },
    {
      "cell_type": "markdown",
      "source": [
        "**SET 31 A.** Write a program in Python to store 10 words in a List. Display only those words which are  Palindrome.\n",
        "Sample Input: MADAM, TEACHER, SCHOOL, ABBA, .........\n",
        "Sample Output: MADAM\n"
      ],
      "metadata": {
        "id": "P3NbiG3YyaS1"
      }
    },
    {
      "cell_type": "code",
      "source": [
        "                                                                                # Input 10 words and store them in a list\n",
        "words = []\n",
        "for i in range(10):\n",
        "    word = input(f\"Enter word {i+1}: \")\n",
        "    words.append(word)\n",
        "\n",
        "                                                                                # Check for palindromes and display them\n",
        "palindromes = [word for word in words if word == word[::-1]]\n",
        "\n",
        "if palindromes:\n",
        "    print(\"\\nPalindromes in the list:\")\n",
        "    for palindrome in palindromes:\n",
        "        print(palindrome)\n",
        "else:\n",
        "    print(\"\\nNo palindromes found in the list.\")\n"
      ],
      "metadata": {
        "id": "ZvcG_qP9yfvu"
      },
      "execution_count": null,
      "outputs": []
    },
    {
      "cell_type": "markdown",
      "source": [
        "**SET 31 B.** i) Given two list of numbers, concatenate them into a single list\n",
        "ii) Write a program that finds largest and smallest element in the list.\n"
      ],
      "metadata": {
        "id": "D1BJcI77yf31"
      }
    },
    {
      "cell_type": "code",
      "source": [
        "1.\n",
        "                                                                                # Given two lists of numbers\n",
        "list1 = [1, 2, 3]\n",
        "list2 = [4, 5, 6]\n",
        "\n",
        "                                                                                # Concatenate the two lists into a single list\n",
        "concatenated_list = list1 + list2\n",
        "\n",
        "                                                                                # Display the concatenated list\n",
        "print(\"Concatenated List:\", concatenated_list)\n",
        "\n",
        "2.\n",
        "def find_largest_smallest(numbers):\n",
        "    if not numbers:\n",
        "        return None, None                                                       # Handle the case of an empty list\n",
        "\n",
        "    largest = max(numbers)\n",
        "    smallest = min(numbers)\n",
        "    return largest, smallest\n",
        "\n",
        "                                                                                # Input list of numbers\n",
        "numbers = [12, 5, 31, 8, 17, 2]\n",
        "\n",
        "largest, smallest = find_largest_smallest(numbers)\n",
        "print(\"Largest Element:\", largest)\n",
        "print(\"Smallest Element:\", smallest)\n"
      ],
      "metadata": {
        "id": "gT7ey3BvykwF"
      },
      "execution_count": null,
      "outputs": []
    },
    {
      "cell_type": "markdown",
      "source": [
        "**SET 32 A.** Write a program using method overloading that computes the area of a parallelogram, a rhombus  and a trapezium.\n",
        "Formula:\n",
        "Area of a parallelogram (pg) = base * ht\n",
        "Area of a rhombus (rh) = (1/2) * d1 * d2\n",
        "(where, d1 and d2 are the diagonals)\n",
        "Area of a trapezium (tr) = (1/2) * ( a + b) * h\n",
        "(where a and b are the parallel sides, h is the perpendicular distance between the parallel sides)\n"
      ],
      "metadata": {
        "id": "Yy3786i8ylQt"
      }
    },
    {
      "cell_type": "code",
      "source": [
        "class AreaCalculator:\n",
        "    def calculate_area(self, shape, *args):\n",
        "        if shape == \"parallelogram\":\n",
        "            base, height = args\n",
        "            return self.calculate_parallelogram_area(base, height)\n",
        "        elif shape == \"rhombus\":\n",
        "            diagonal1, diagonal2 = args\n",
        "            return self.calculate_rhombus_area(diagonal1, diagonal2)\n",
        "        elif shape == \"trapezium\":\n",
        "            side_a, side_b, height = args\n",
        "            return self.calculate_trapezium_area(side_a, side_b, height)\n",
        "        else:\n",
        "            return \"Invalid shape provided.\"\n",
        "\n",
        "    def calculate_parallelogram_area(self, base, height):\n",
        "        return base * height\n",
        "\n",
        "    def calculate_rhombus_area(self, diagonal1, diagonal2):\n",
        "        return 0.5 * diagonal1 * diagonal2\n",
        "\n",
        "    def calculate_trapezium_area(self, side_a, side_b, height):\n",
        "        return 0.5 * (side_a + side_b) * height\n",
        "\n",
        "                                                                                # Create an instance of the AreaCalculator class\n",
        "area_calculator = AreaCalculator()\n",
        "\n",
        "                                                                                # Example usages:\n",
        "parallelogram_area = area_calculator.calculate_area(\"parallelogram\", 4, 5)\n",
        "rhombus_area = area_calculator.calculate_area(\"rhombus\", 6, 8)\n",
        "trapezium_area = area_calculator.calculate_area(\"trapezium\", 3, 5, 4)\n",
        "\n",
        "print(\"Area of Parallelogram:\", parallelogram_area)\n",
        "print(\"Area of Rhombus:\", rhombus_area)\n",
        "print(\"Area of Trapezium:\", trapezium_area)\n"
      ],
      "metadata": {
        "id": "SW1EM7coyri0"
      },
      "execution_count": null,
      "outputs": []
    },
    {
      "cell_type": "markdown",
      "source": [
        "**SET 32 B.** Implement a function that takes two lists and returns their union (all unique elements from both\n",
        "lists)"
      ],
      "metadata": {
        "id": "pbIj_kLPQHFx"
      }
    },
    {
      "cell_type": "code",
      "source": [
        "def find_union(list1, list2):\n",
        "                                                                                # Convert the lists to sets to eliminate duplicates\n",
        "    set1 = set(list1)\n",
        "    set2 = set(list2)\n",
        "\n",
        "                                                                                # Find the union of the two sets\n",
        "    union_set = set1.union(set2)\n",
        "\n",
        "                                                                                # Convert the union set back to a list\n",
        "    union_list = list(union_set)\n",
        "\n",
        "    return union_list\n",
        "\n",
        "                                                                                # Example usage:\n",
        "list1 = [1, 2, 3, 4, 5]\n",
        "list2 = [3, 4, 5, 6, 7]\n",
        "\n",
        "result = find_union(list1, list2)\n",
        "print(\"Union of the two lists:\", result)\n"
      ],
      "metadata": {
        "id": "UPdvCx9fQNqY"
      },
      "execution_count": null,
      "outputs": []
    },
    {
      "cell_type": "markdown",
      "source": [
        "**SET 33 A.** Write a program in Python to accept the name of an employee and his/her annual income. Pass the\n",
        "name and the annual income to a method Tax(String name, int income) which displays the name of\n",
        "the employee and the income tax as per the given tariff:"
      ],
      "metadata": {
        "id": "SjqX2mzPyrqd"
      }
    },
    {
      "cell_type": "code",
      "source": [
        "def calculate_income_tax(name, income):\n",
        "    if income <= 250000:\n",
        "        tax = 0\n",
        "    elif income <= 500000:\n",
        "        tax = (income - 250000) * 0.10\n",
        "    elif income <= 1000000:\n",
        "        tax = 30000 + (income - 500000) * 0.20\n",
        "    else:\n",
        "        tax = 50000 + (income - 1000000) * 0.30\n",
        "\n",
        "    print(\"Employee Name:\", name)\n",
        "    print(\"Annual Income: ₹\", income)\n",
        "    print(\"Income Tax: ₹\", tax)\n",
        "\n",
        "                                                                                # Input employee's name and annual income\n",
        "employee_name = input(\"Enter the employee's name: \")\n",
        "annual_income = int(input(\"Enter the annual income: ₹\"))\n",
        "\n",
        "                                                                                # Calculate and display income tax\n",
        "calculate_income_tax(employee_name, annual_income)\n"
      ],
      "metadata": {
        "id": "-TPtqOt-zBps"
      },
      "execution_count": null,
      "outputs": []
    },
    {
      "cell_type": "markdown",
      "source": [
        "**SET 33 B.** Create a program that checks if two sets have any elements in common."
      ],
      "metadata": {
        "id": "3LZ8D4QczCM7"
      }
    },
    {
      "cell_type": "code",
      "source": [
        "def have_common_elements(set1, set2):\n",
        "                                                                                # Check if the intersection of the two sets is not empty\n",
        "    return not set1.isdisjoint(set2)\n",
        "\n",
        "                                                                                # Example sets\n",
        "set1 = {1, 2, 3, 4, 5}\n",
        "set2 = {4, 5, 6, 7, 8}\n",
        "\n",
        "if have_common_elements(set1, set2):\n",
        "    print(\"The sets have common elements.\")\n",
        "else:\n",
        "    print(\"The sets do not have common elements.\")"
      ],
      "metadata": {
        "id": "tDJfA4SuzIGk"
      },
      "execution_count": null,
      "outputs": []
    },
    {
      "cell_type": "markdown",
      "source": [
        "**SET 34 A.** Write a program to input a number and check and print whether it is a 'Pronic' number or not. Use a  method int Pronic(int n) to accept a number. The method returns 1, if the number is 'Pronic',  otherwise returns zero (0).\n",
        "(Hint: Pronic number is the number which is the product of two consecutive integers) Examples:\n",
        "12 = 3 * 4\n",
        "20 = 4 * 5\n",
        "42 = 6 * 7\n"
      ],
      "metadata": {
        "id": "SOQ7LhQjzU3d"
      }
    },
    {
      "cell_type": "code",
      "source": [
        "def is_pronic(n):\n",
        "    for i in range(n):\n",
        "        if i * (i + 1) == n:\n",
        "            return 1\n",
        "    return 0\n",
        "\n",
        "                                                                                # Input a number\n",
        "num = int(input(\"Enter a number: \"))\n",
        "\n",
        "result = is_pronic(num)\n",
        "\n",
        "if result == 1:\n",
        "    print(f\"{num} is a Pronic number.\")\n",
        "else:\n",
        "    print(f\"{num} is not a Pronic number.\")"
      ],
      "metadata": {
        "id": "pPnSZuPzzd79"
      },
      "execution_count": null,
      "outputs": []
    },
    {
      "cell_type": "markdown",
      "source": [
        "**SET 34 B.** Given a list of dictionaries, find the dictionary with the highest value for a specific key"
      ],
      "metadata": {
        "id": "E5yfZH5vzeL9"
      }
    },
    {
      "cell_type": "code",
      "source": [
        "                                                                                # List of dictionaries\n",
        "data = [\n",
        "    {'name': 'Alice', 'score': 85},\n",
        "    {'name': 'Bob', 'score': 92},\n",
        "    {'name': 'Charlie', 'score': 78},\n",
        "    {'name': 'David', 'score': 95}\n",
        "]\n",
        "\n",
        "                                                                                # Specify the key to find the maximum value for\n",
        "key_to_find = 'score'\n",
        "\n",
        "                                                                                # Use the max function with a custom key function to find the dictionary\n",
        "dictionary_with_max_value = max(data, key=lambda x: x[key_to_find])\n",
        "\n",
        "print(\"Dictionary with the highest\", key_to_find, \":\", dictionary_with_max_value)"
      ],
      "metadata": {
        "id": "XrV7E9XnzmZ3"
      },
      "execution_count": null,
      "outputs": []
    },
    {
      "cell_type": "markdown",
      "source": [
        "**SET 35 A.** Write a Python program to convert temperature in Celsius to Fahrenheit or Fahrenheit to Celsius  based on user choice.\n",
        "Formulae:\n",
        "Celsius to Fahrenheit: °F = °C × (9/5) + 32.\n",
        "Fahrenheit to Celsius : °C = (°F - 32) × 5/9\n"
      ],
      "metadata": {
        "id": "o6dGQ4g8zmj1"
      }
    },
    {
      "cell_type": "code",
      "source": [
        "def celsius_to_fahrenheit(celsius):\n",
        "    fahrenheit = celsius * (9/5) + 32\n",
        "    return fahrenheit\n",
        "\n",
        "def fahrenheit_to_celsius(fahrenheit):\n",
        "    celsius = (fahrenheit - 32) * 5/9\n",
        "    return celsius\n",
        "\n",
        "choice = input(\"Enter 'C' for Celsius to Fahrenheit conversion or 'F' for Fahrenheit to Celsius conversion: \")\n",
        "\n",
        "if choice == 'C' or choice == 'c':\n",
        "    celsius = float(input(\"Enter temperature in Celsius: \"))\n",
        "    result = celsius_to_fahrenheit(celsius)\n",
        "    print(f\"{celsius}°C is equal to {result}°F\")\n",
        "\n",
        "elif choice == 'F' or choice == 'f':\n",
        "    fahrenheit = float(input(\"Enter temperature in Fahrenheit: \"))\n",
        "    result = fahrenheit_to_celsius(fahrenheit)\n",
        "    print(f\"{fahrenheit}°F is equal to {result}°C\")\n",
        "\n",
        "else:\n",
        "    print(\"Invalid choice. Please enter 'C' or 'F' for the conversion.\")\n"
      ],
      "metadata": {
        "id": "mkBRxrTJzxhd"
      },
      "execution_count": null,
      "outputs": []
    },
    {
      "cell_type": "markdown",
      "source": [
        "**SET 35 B.** Write a Python program to create an array of 5 integers and display the array items. Access  individual elements through indexes."
      ],
      "metadata": {
        "id": "-285aN1gzxtN"
      }
    },
    {
      "cell_type": "code",
      "source": [
        "from array import array\n",
        "\n",
        "                                                                                # Create an array of integers\n",
        "original_array = array('i', [1, 3, 5, 7, 9])\n",
        "\n",
        "                                                                                # Display the original array\n",
        "print(\"Original array:\", original_array)\n",
        "\n",
        "                                                                                # Get the user's choice and append it to the end of the array\n",
        "user_choice = int(input(\"Enter an integer to append to the end of the array: \"))\n",
        "original_array.append(user_choice)\n",
        "\n",
        "                                                                                # Display the updated array\n",
        "print(\"New array:\", original_array)\n"
      ],
      "metadata": {
        "id": "YVSbR4dnz3Qt"
      },
      "execution_count": null,
      "outputs": []
    },
    {
      "cell_type": "markdown",
      "source": [
        "**SET 36 A.** Write a Python program to append a new item of user choice to the end of the array. Sample Output:\n",
        "Original array: array('i', [1, 3, 5, 7, 9])\n",
        "Append 11 at the end of the array:\n",
        "New array: array('i', [1, 3, 5, 7, 9, 11])\n"
      ],
      "metadata": {
        "id": "Ze9XnaDpz3al"
      }
    },
    {
      "cell_type": "code",
      "source": [
        "from array import array\n",
        "\n",
        "                                                                                # Create an array of integers\n",
        "original_array = array('i', [1, 3, 5, 3, 7, 1, 9, 3])\n",
        "\n",
        "                                                                                # Display the original array\n",
        "print(\"Original array:\", original_array)\n",
        "\n",
        "                                                                                # Reverse the order of items in the array\n",
        "original_array.reverse()\n",
        "\n",
        "                                                                                # Display the reversed array\n",
        "print(\"Reverse the order of the items:\", original_array)"
      ],
      "metadata": {
        "id": "kFE-CQF9z_BN"
      },
      "execution_count": null,
      "outputs": []
    },
    {
      "cell_type": "markdown",
      "source": [
        "**SET 36 B.** Find the union and intersection of two arrays in Python"
      ],
      "metadata": {
        "id": "KEAVfnvUz_Re"
      }
    },
    {
      "cell_type": "code",
      "source": [
        "                                                                                # Define two arrays\n",
        "array1 = [1, 2, 3, 4, 5]\n",
        "array2 = [3, 4, 5, 6, 7]\n",
        "\n",
        "                                                                                # Find the union\n",
        "union = list(set(array1) | set(array2))\n",
        "\n",
        "                                                                                # Find the intersection\n",
        "intersection = list(set(array1) & set(array2))\n",
        "\n",
        "print(\"Array 1:\", array1)\n",
        "print(\"Array 2:\", array2)\n",
        "print(\"Union:\", union)\n",
        "print(\"Intersection:\", intersection)"
      ],
      "metadata": {
        "id": "FRCm3K3m0FoV"
      },
      "execution_count": null,
      "outputs": []
    },
    {
      "cell_type": "markdown",
      "source": [
        "**SET 37 A.** Write a Python program to reverse the order of the items in the array.\n",
        "Sample Output\n",
        "Original array: array('i', [1, 3, 5, 3, 7, 1, 9, 3])\n",
        "Reverse the order of the items:\n",
        "array('i', [3, 9, 1, 7, 3, 5, 3, 1])\n"
      ],
      "metadata": {
        "id": "xulL1wGn0FMl"
      }
    },
    {
      "cell_type": "code",
      "source": [
        "from array import array\n",
        "\n",
        "                                                                                # Create an array of integers\n",
        "original_array = array('i', [1, 3, 5, 3, 7, 1, 9, 3])\n",
        "\n",
        "                                                                                # Display the original array\n",
        "print(\"Original array:\", original_array)\n",
        "\n",
        "                                                                                # Reverse the order of items in the array\n",
        "original_array.reverse()\n",
        "\n",
        "                                                                                # Display the reversed array\n",
        "print(\"Reverse the order of the items:\", original_array)"
      ],
      "metadata": {
        "id": "KkJFlWV50N4F"
      },
      "execution_count": null,
      "outputs": []
    },
    {
      "cell_type": "markdown",
      "source": [
        "**SET 37 B.** Write a python program to demonstrate use of range function(using for over list, using loop over  string, using loop over dictionary and using loop over tuple)"
      ],
      "metadata": {
        "id": "7cTKVEoW0QTu"
      }
    },
    {
      "cell_type": "code",
      "source": [
        "                                                                                # Using range with a for loop over a list\n",
        "numbers = [1, 2, 3, 4, 5]\n",
        "print(\"Using range with a for loop over a list:\")\n",
        "for i in range(len(numbers)):\n",
        "    print(numbers[i])\n",
        "\n",
        "                                                                                # Using range with a for loop over a string\n",
        "text = \"Hello, World!\"\n",
        "print(\"\\nUsing range with a for loop over a string:\")\n",
        "for i in range(len(text)):\n",
        "    print(text[i])\n",
        "\n",
        "                                                                                # Using range with a for loop over a dictionary (keys)\n",
        "person = {'name': 'Alice', 'age': 30, 'city': 'New York'}\n",
        "print(\"\\nUsing range with a for loop over a dictionary (keys):\")\n",
        "for key in person:\n",
        "    print(key, person[key])\n",
        "\n",
        "                                                                                # Using range with a for loop over a tuple\n",
        "colors = ('red', 'green', 'blue', 'yellow')\n",
        "print(\"\\nUsing range with a for loop over a tuple:\")\n",
        "for i in range(len(colors)):\n",
        "    print(colors[i])\n"
      ],
      "metadata": {
        "id": "LG1X_U6i0adG"
      },
      "execution_count": null,
      "outputs": []
    },
    {
      "cell_type": "markdown",
      "source": [
        "**SET 38 A.** Write a program to input a number and check and print whether it is a 'Pronic' number or not. Use a  method int Pronic(int n) to accept a number. The method returns 1, if the number is 'Pronic',  otherwise returns zero (0).\n",
        "(Hint: Pronic number is the number which is the product of two consecutive integers)\n",
        "Examples:\n",
        "12 = 3 * 4\n",
        "20 = 4 * 5\n",
        "42 = 6 * 7\n"
      ],
      "metadata": {
        "id": "P8GJki-_0arc"
      }
    },
    {
      "cell_type": "code",
      "source": [],
      "metadata": {
        "id": "VX4JBTK60lXl"
      },
      "execution_count": null,
      "outputs": []
    },
    {
      "cell_type": "markdown",
      "source": [
        "**SET 38 B.** Write a Python program to get the number of occurrences of a specified element in an array. Sample Output:\n",
        "Original array: array('i', [1, 3, 5, 3, 7, 9, 3])\n",
        "Number of occurrences of the number 3 in the said array: 3\n"
      ],
      "metadata": {
        "id": "tSN4ot7-0lqt"
      }
    },
    {
      "cell_type": "code",
      "source": [
        "from array import array\n",
        "\n",
        "                                                                                # Create an array of integers\n",
        "original_array = array('i', [1, 3, 5, 3, 7, 9, 3])\n",
        "\n",
        "                                                                                # Display the original array\n",
        "print(\"Original array:\", original_array)\n",
        "\n",
        "                                                                                # Specify the element to count\n",
        "element_to_count = 3\n",
        "\n",
        "                                                                                # Get the number of occurrences of the specified element\n",
        "count = original_array.count(element_to_count)\n",
        "\n",
        "print(f\"Number of occurrences of the number {element_to_count} in the array: {count}\")\n"
      ],
      "metadata": {
        "id": "0zOGVl070tyn"
      },
      "execution_count": null,
      "outputs": []
    }
  ]
}